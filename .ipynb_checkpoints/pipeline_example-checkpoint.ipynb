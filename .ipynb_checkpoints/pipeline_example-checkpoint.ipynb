{
 "cells": [
  {
   "cell_type": "code",
   "execution_count": 1,
   "metadata": {},
   "outputs": [],
   "source": [
    "import seaborn as sns\n",
    "import pandas as pd\n",
    "import numpy as np\n",
    "import matplotlib.pyplot as plt\n",
    "from scipy.stats import ttest_ind\n",
    "from sklearn.pipeline import Pipeline\n",
    "from sklearn.preprocessing import OneHotEncoder, StandardScaler, FunctionTransformer\n",
    "from sklearn.model_selection import train_test_split, cross_validate\n",
    "from sklearn.compose import ColumnTransformer\n",
    "from sklearn.tree import DecisionTreeClassifier\n",
    "from sklearn.ensemble import RandomForestClassifier\n",
    "from sklearn.model_selection import GridSearchCV\n",
    "from sklearn.metrics import classification_report, plot_confusion_matrix\n",
    "from sklearn.impute import SimpleImputer\n",
    "import xgboost as xgb\n",
    "from imblearn.pipeline import Pipeline as imbpipeline\n",
    "from imblearn.over_sampling import SMOTE\n"
   ]
  },
  {
   "cell_type": "code",
   "execution_count": 2,
   "metadata": {},
   "outputs": [],
   "source": [
    "df = sns.load_dataset('diamonds')"
   ]
  },
  {
   "cell_type": "code",
   "execution_count": 3,
   "metadata": {
    "scrolled": true
   },
   "outputs": [
    {
     "data": {
      "text/html": [
       "<div>\n",
       "<style scoped>\n",
       "    .dataframe tbody tr th:only-of-type {\n",
       "        vertical-align: middle;\n",
       "    }\n",
       "\n",
       "    .dataframe tbody tr th {\n",
       "        vertical-align: top;\n",
       "    }\n",
       "\n",
       "    .dataframe thead th {\n",
       "        text-align: right;\n",
       "    }\n",
       "</style>\n",
       "<table border=\"1\" class=\"dataframe\">\n",
       "  <thead>\n",
       "    <tr style=\"text-align: right;\">\n",
       "      <th></th>\n",
       "      <th>carat</th>\n",
       "      <th>cut</th>\n",
       "      <th>color</th>\n",
       "      <th>clarity</th>\n",
       "      <th>depth</th>\n",
       "      <th>table</th>\n",
       "      <th>price</th>\n",
       "      <th>x</th>\n",
       "      <th>y</th>\n",
       "      <th>z</th>\n",
       "    </tr>\n",
       "  </thead>\n",
       "  <tbody>\n",
       "    <tr>\n",
       "      <th>0</th>\n",
       "      <td>0.23</td>\n",
       "      <td>Ideal</td>\n",
       "      <td>E</td>\n",
       "      <td>SI2</td>\n",
       "      <td>61.5</td>\n",
       "      <td>55.0</td>\n",
       "      <td>326</td>\n",
       "      <td>3.95</td>\n",
       "      <td>3.98</td>\n",
       "      <td>2.43</td>\n",
       "    </tr>\n",
       "    <tr>\n",
       "      <th>1</th>\n",
       "      <td>0.21</td>\n",
       "      <td>Premium</td>\n",
       "      <td>E</td>\n",
       "      <td>SI1</td>\n",
       "      <td>59.8</td>\n",
       "      <td>61.0</td>\n",
       "      <td>326</td>\n",
       "      <td>3.89</td>\n",
       "      <td>3.84</td>\n",
       "      <td>2.31</td>\n",
       "    </tr>\n",
       "    <tr>\n",
       "      <th>2</th>\n",
       "      <td>0.23</td>\n",
       "      <td>Good</td>\n",
       "      <td>E</td>\n",
       "      <td>VS1</td>\n",
       "      <td>56.9</td>\n",
       "      <td>65.0</td>\n",
       "      <td>327</td>\n",
       "      <td>4.05</td>\n",
       "      <td>4.07</td>\n",
       "      <td>2.31</td>\n",
       "    </tr>\n",
       "    <tr>\n",
       "      <th>3</th>\n",
       "      <td>0.29</td>\n",
       "      <td>Premium</td>\n",
       "      <td>I</td>\n",
       "      <td>VS2</td>\n",
       "      <td>62.4</td>\n",
       "      <td>58.0</td>\n",
       "      <td>334</td>\n",
       "      <td>4.20</td>\n",
       "      <td>4.23</td>\n",
       "      <td>2.63</td>\n",
       "    </tr>\n",
       "    <tr>\n",
       "      <th>4</th>\n",
       "      <td>0.31</td>\n",
       "      <td>Good</td>\n",
       "      <td>J</td>\n",
       "      <td>SI2</td>\n",
       "      <td>63.3</td>\n",
       "      <td>58.0</td>\n",
       "      <td>335</td>\n",
       "      <td>4.34</td>\n",
       "      <td>4.35</td>\n",
       "      <td>2.75</td>\n",
       "    </tr>\n",
       "  </tbody>\n",
       "</table>\n",
       "</div>"
      ],
      "text/plain": [
       "   carat      cut color clarity  depth  table  price     x     y     z\n",
       "0   0.23    Ideal     E     SI2   61.5   55.0    326  3.95  3.98  2.43\n",
       "1   0.21  Premium     E     SI1   59.8   61.0    326  3.89  3.84  2.31\n",
       "2   0.23     Good     E     VS1   56.9   65.0    327  4.05  4.07  2.31\n",
       "3   0.29  Premium     I     VS2   62.4   58.0    334  4.20  4.23  2.63\n",
       "4   0.31     Good     J     SI2   63.3   58.0    335  4.34  4.35  2.75"
      ]
     },
     "execution_count": 3,
     "metadata": {},
     "output_type": "execute_result"
    }
   ],
   "source": [
    "df.head()"
   ]
  },
  {
   "cell_type": "code",
   "execution_count": 4,
   "metadata": {},
   "outputs": [
    {
     "name": "stdout",
     "output_type": "stream",
     "text": [
      "0.30    2604\n",
      "0.31    2249\n",
      "1.01    2242\n",
      "0.70    1981\n",
      "0.32    1840\n",
      "        ... \n",
      "2.70       1\n",
      "3.67       1\n",
      "5.01       1\n",
      "2.77       1\n",
      "3.40       1\n",
      "Name: carat, Length: 273, dtype: int64\n",
      "Ideal        21551\n",
      "Premium      13791\n",
      "Very Good    12082\n",
      "Good          4906\n",
      "Fair          1610\n",
      "Name: cut, dtype: int64\n",
      "G    11292\n",
      "E     9797\n",
      "F     9542\n",
      "H     8304\n",
      "D     6775\n",
      "I     5422\n",
      "J     2808\n",
      "Name: color, dtype: int64\n",
      "SI1     13065\n",
      "VS2     12258\n",
      "SI2      9194\n",
      "VS1      8171\n",
      "VVS2     5066\n",
      "VVS1     3655\n",
      "IF       1790\n",
      "I1        741\n",
      "Name: clarity, dtype: int64\n",
      "62.0    2239\n",
      "61.9    2163\n",
      "61.8    2077\n",
      "62.2    2039\n",
      "62.1    2020\n",
      "        ... \n",
      "72.9       1\n",
      "52.7       1\n",
      "69.1       1\n",
      "70.5       1\n",
      "69.4       1\n",
      "Name: depth, Length: 184, dtype: int64\n",
      "56.0    9881\n",
      "57.0    9724\n",
      "58.0    8369\n",
      "59.0    6572\n",
      "55.0    6268\n",
      "        ... \n",
      "61.3       1\n",
      "61.6       1\n",
      "64.3       1\n",
      "61.8       1\n",
      "63.3       1\n",
      "Name: table, Length: 127, dtype: int64\n",
      "605      132\n",
      "802      127\n",
      "625      126\n",
      "828      125\n",
      "776      124\n",
      "        ... \n",
      "13550      1\n",
      "13014      1\n",
      "6811       1\n",
      "5354       1\n",
      "11600      1\n",
      "Name: price, Length: 11602, dtype: int64\n",
      "4.37     448\n",
      "4.34     437\n",
      "4.33     429\n",
      "4.38     428\n",
      "4.32     425\n",
      "        ... \n",
      "9.66       1\n",
      "10.14      1\n",
      "9.41       1\n",
      "10.23      1\n",
      "10.01      1\n",
      "Name: x, Length: 554, dtype: int64\n",
      "4.34     437\n",
      "4.37     435\n",
      "4.35     425\n",
      "4.33     421\n",
      "4.32     414\n",
      "        ... \n",
      "58.90      1\n",
      "9.20       1\n",
      "9.26       1\n",
      "9.03       1\n",
      "3.75       1\n",
      "Name: y, Length: 552, dtype: int64\n",
      "2.70     767\n",
      "2.69     748\n",
      "2.71     738\n",
      "2.68     730\n",
      "2.72     697\n",
      "        ... \n",
      "5.65       1\n",
      "1.07       1\n",
      "6.31       1\n",
      "5.75       1\n",
      "31.80      1\n",
      "Name: z, Length: 375, dtype: int64\n"
     ]
    }
   ],
   "source": [
    "for col in df.columns:\n",
    "    print(df[col].value_counts())"
   ]
  },
  {
   "cell_type": "code",
   "execution_count": 5,
   "metadata": {},
   "outputs": [
    {
     "data": {
      "text/plain": [
       "carat       float64\n",
       "cut        category\n",
       "color      category\n",
       "clarity    category\n",
       "depth       float64\n",
       "table       float64\n",
       "price         int64\n",
       "x           float64\n",
       "y           float64\n",
       "z           float64\n",
       "dtype: object"
      ]
     },
     "execution_count": 5,
     "metadata": {},
     "output_type": "execute_result"
    }
   ],
   "source": [
    "df.dtypes"
   ]
  },
  {
   "cell_type": "code",
   "execution_count": 6,
   "metadata": {},
   "outputs": [],
   "source": [
    "X = df.drop('cut', axis=1)\n",
    "y = df['cut']"
   ]
  },
  {
   "cell_type": "code",
   "execution_count": 7,
   "metadata": {
    "scrolled": true
   },
   "outputs": [
    {
     "data": {
      "text/plain": [
       "True"
      ]
     },
     "execution_count": 7,
     "metadata": {},
     "output_type": "execute_result"
    }
   ],
   "source": [
    "df['depth'].dtype == 'float'"
   ]
  },
  {
   "cell_type": "code",
   "execution_count": 8,
   "metadata": {
    "scrolled": true
   },
   "outputs": [
    {
     "data": {
      "text/plain": [
       "CategoricalDtype(categories=['D', 'E', 'F', 'G', 'H', 'I', 'J'], ordered=False)"
      ]
     },
     "execution_count": 8,
     "metadata": {},
     "output_type": "execute_result"
    }
   ],
   "source": [
    "df['color'].dtype"
   ]
  },
  {
   "cell_type": "markdown",
   "metadata": {},
   "source": [
    "### Train Test Split"
   ]
  },
  {
   "cell_type": "code",
   "execution_count": 9,
   "metadata": {},
   "outputs": [],
   "source": [
    "X_train, X_test, y_train, y_test = train_test_split(X, y, random_state=42, stratify=y)"
   ]
  },
  {
   "cell_type": "code",
   "execution_count": 10,
   "metadata": {},
   "outputs": [
    {
     "data": {
      "text/plain": [
       "Ideal        16163\n",
       "Premium      10343\n",
       "Very Good     9061\n",
       "Good          3680\n",
       "Fair          1208\n",
       "Name: cut, dtype: int64"
      ]
     },
     "execution_count": 10,
     "metadata": {},
     "output_type": "execute_result"
    }
   ],
   "source": [
    "y_train.value_counts()"
   ]
  },
  {
   "cell_type": "markdown",
   "metadata": {},
   "source": [
    "### Separating categorical and numerical features"
   ]
  },
  {
   "cell_type": "code",
   "execution_count": 11,
   "metadata": {},
   "outputs": [
    {
     "data": {
      "text/plain": [
       "['color', 'clarity']"
      ]
     },
     "execution_count": 11,
     "metadata": {},
     "output_type": "execute_result"
    }
   ],
   "source": [
    "cat_cols = [col for col in X_train.columns if X_train[col].dtypes not in ['float64', 'int64']]\n",
    "cat_cols"
   ]
  },
  {
   "cell_type": "code",
   "execution_count": 12,
   "metadata": {
    "scrolled": true
   },
   "outputs": [
    {
     "data": {
      "text/plain": [
       "['carat', 'depth', 'table', 'price', 'x', 'y', 'z']"
      ]
     },
     "execution_count": 12,
     "metadata": {},
     "output_type": "execute_result"
    }
   ],
   "source": [
    "num_cols = [col for col in X_train.columns if col not in cat_cols]\n",
    "num_cols"
   ]
  },
  {
   "cell_type": "code",
   "execution_count": 13,
   "metadata": {},
   "outputs": [],
   "source": [
    "cat_pipe = Pipeline(steps=[\n",
    "    ('imputer', SimpleImputer(strategy='constant', fill_value='missing')), \n",
    "    ('ohe', OneHotEncoder(handle_unknown='ignore', sparse=False))\n",
    "])"
   ]
  },
  {
   "cell_type": "code",
   "execution_count": 14,
   "metadata": {},
   "outputs": [],
   "source": [
    "num_pipe = Pipeline(steps=[\n",
    "    ('imputer', SimpleImputer(missing_values=0, strategy='mean')),\n",
    "    ('scaler', StandardScaler())\n",
    "])"
   ]
  },
  {
   "cell_type": "code",
   "execution_count": 15,
   "metadata": {},
   "outputs": [],
   "source": [
    "preprocess = ColumnTransformer(transformers=[\n",
    "    ('cat_cleaning', cat_pipe, cat_cols),\n",
    "    ('num_cleaning', num_pipe, num_cols)\n",
    "])"
   ]
  },
  {
   "cell_type": "code",
   "execution_count": 16,
   "metadata": {},
   "outputs": [
    {
     "data": {
      "text/plain": [
       "ColumnTransformer(transformers=[('cat_cleaning',\n",
       "                                 Pipeline(steps=[('imputer',\n",
       "                                                  SimpleImputer(fill_value='missing',\n",
       "                                                                strategy='constant')),\n",
       "                                                 ('ohe',\n",
       "                                                  OneHotEncoder(handle_unknown='ignore',\n",
       "                                                                sparse=False))]),\n",
       "                                 ['color', 'clarity']),\n",
       "                                ('num_cleaning',\n",
       "                                 Pipeline(steps=[('imputer',\n",
       "                                                  SimpleImputer(missing_values=0)),\n",
       "                                                 ('scaler', StandardScaler())]),\n",
       "                                 ['carat', 'depth', 'table', 'price', 'x', 'y',\n",
       "                                  'z'])])"
      ]
     },
     "execution_count": 16,
     "metadata": {},
     "output_type": "execute_result"
    }
   ],
   "source": [
    "preprocess"
   ]
  },
  {
   "cell_type": "code",
   "execution_count": 18,
   "metadata": {},
   "outputs": [
    {
     "data": {
      "text/plain": [
       "Ideal        0.399530\n",
       "Premium      0.255667\n",
       "Very Good    0.223977\n",
       "Good         0.090965\n",
       "Fair         0.029860\n",
       "Name: cut, dtype: float64"
      ]
     },
     "execution_count": 18,
     "metadata": {},
     "output_type": "execute_result"
    }
   ],
   "source": [
    "y_train.value_counts(1)"
   ]
  },
  {
   "cell_type": "code",
   "execution_count": 17,
   "metadata": {},
   "outputs": [
    {
     "ename": "TypeError",
     "evalue": "All intermediate steps should be transformers and implement fit and transform or be the string 'passthrough' 'SMOTE()' (type <class 'imblearn.over_sampling._smote.SMOTE'>) doesn't",
     "output_type": "error",
     "traceback": [
      "\u001b[0;31m---------------------------------------------------------------------------\u001b[0m",
      "\u001b[0;31mTypeError\u001b[0m                                 Traceback (most recent call last)",
      "\u001b[0;32m<ipython-input-17-bb35ec6df0be>\u001b[0m in \u001b[0;36m<module>\u001b[0;34m\u001b[0m\n\u001b[0;32m----> 1\u001b[0;31m our_pipe = Pipeline(steps=[\n\u001b[0m\u001b[1;32m      2\u001b[0m     \u001b[0;34m(\u001b[0m\u001b[0;34m'preprocess'\u001b[0m\u001b[0;34m,\u001b[0m \u001b[0mpreprocess\u001b[0m\u001b[0;34m)\u001b[0m\u001b[0;34m,\u001b[0m\u001b[0;34m\u001b[0m\u001b[0;34m\u001b[0m\u001b[0m\n\u001b[1;32m      3\u001b[0m     \u001b[0;34m(\u001b[0m\u001b[0;34m'smote'\u001b[0m\u001b[0;34m,\u001b[0m \u001b[0mSMOTE\u001b[0m\u001b[0;34m(\u001b[0m\u001b[0;34m)\u001b[0m\u001b[0;34m)\u001b[0m\u001b[0;34m,\u001b[0m\u001b[0;34m\u001b[0m\u001b[0;34m\u001b[0m\u001b[0m\n\u001b[1;32m      4\u001b[0m     \u001b[0;34m(\u001b[0m\u001b[0;34m'rf'\u001b[0m\u001b[0;34m,\u001b[0m \u001b[0mRandomForestClassifier\u001b[0m\u001b[0;34m(\u001b[0m\u001b[0mmax_depth\u001b[0m\u001b[0;34m=\u001b[0m\u001b[0;36m9\u001b[0m\u001b[0;34m)\u001b[0m\u001b[0;34m)\u001b[0m\u001b[0;34m\u001b[0m\u001b[0;34m\u001b[0m\u001b[0m\n\u001b[1;32m      5\u001b[0m ])\n",
      "\u001b[0;32m~/opt/anaconda3/envs/learn-env/lib/python3.8/site-packages/sklearn/utils/validation.py\u001b[0m in \u001b[0;36minner_f\u001b[0;34m(*args, **kwargs)\u001b[0m\n\u001b[1;32m     70\u001b[0m                           FutureWarning)\n\u001b[1;32m     71\u001b[0m         \u001b[0mkwargs\u001b[0m\u001b[0;34m.\u001b[0m\u001b[0mupdate\u001b[0m\u001b[0;34m(\u001b[0m\u001b[0;34m{\u001b[0m\u001b[0mk\u001b[0m\u001b[0;34m:\u001b[0m \u001b[0marg\u001b[0m \u001b[0;32mfor\u001b[0m \u001b[0mk\u001b[0m\u001b[0;34m,\u001b[0m \u001b[0marg\u001b[0m \u001b[0;32min\u001b[0m \u001b[0mzip\u001b[0m\u001b[0;34m(\u001b[0m\u001b[0msig\u001b[0m\u001b[0;34m.\u001b[0m\u001b[0mparameters\u001b[0m\u001b[0;34m,\u001b[0m \u001b[0margs\u001b[0m\u001b[0;34m)\u001b[0m\u001b[0;34m}\u001b[0m\u001b[0;34m)\u001b[0m\u001b[0;34m\u001b[0m\u001b[0;34m\u001b[0m\u001b[0m\n\u001b[0;32m---> 72\u001b[0;31m         \u001b[0;32mreturn\u001b[0m \u001b[0mf\u001b[0m\u001b[0;34m(\u001b[0m\u001b[0;34m**\u001b[0m\u001b[0mkwargs\u001b[0m\u001b[0;34m)\u001b[0m\u001b[0;34m\u001b[0m\u001b[0;34m\u001b[0m\u001b[0m\n\u001b[0m\u001b[1;32m     73\u001b[0m     \u001b[0;32mreturn\u001b[0m \u001b[0minner_f\u001b[0m\u001b[0;34m\u001b[0m\u001b[0;34m\u001b[0m\u001b[0m\n\u001b[1;32m     74\u001b[0m \u001b[0;34m\u001b[0m\u001b[0m\n",
      "\u001b[0;32m~/opt/anaconda3/envs/learn-env/lib/python3.8/site-packages/sklearn/pipeline.py\u001b[0m in \u001b[0;36m__init__\u001b[0;34m(self, steps, memory, verbose)\u001b[0m\n\u001b[1;32m    112\u001b[0m         \u001b[0mself\u001b[0m\u001b[0;34m.\u001b[0m\u001b[0mmemory\u001b[0m \u001b[0;34m=\u001b[0m \u001b[0mmemory\u001b[0m\u001b[0;34m\u001b[0m\u001b[0;34m\u001b[0m\u001b[0m\n\u001b[1;32m    113\u001b[0m         \u001b[0mself\u001b[0m\u001b[0;34m.\u001b[0m\u001b[0mverbose\u001b[0m \u001b[0;34m=\u001b[0m \u001b[0mverbose\u001b[0m\u001b[0;34m\u001b[0m\u001b[0;34m\u001b[0m\u001b[0m\n\u001b[0;32m--> 114\u001b[0;31m         \u001b[0mself\u001b[0m\u001b[0;34m.\u001b[0m\u001b[0m_validate_steps\u001b[0m\u001b[0;34m(\u001b[0m\u001b[0;34m)\u001b[0m\u001b[0;34m\u001b[0m\u001b[0;34m\u001b[0m\u001b[0m\n\u001b[0m\u001b[1;32m    115\u001b[0m \u001b[0;34m\u001b[0m\u001b[0m\n\u001b[1;32m    116\u001b[0m     \u001b[0;32mdef\u001b[0m \u001b[0mget_params\u001b[0m\u001b[0;34m(\u001b[0m\u001b[0mself\u001b[0m\u001b[0;34m,\u001b[0m \u001b[0mdeep\u001b[0m\u001b[0;34m=\u001b[0m\u001b[0;32mTrue\u001b[0m\u001b[0;34m)\u001b[0m\u001b[0;34m:\u001b[0m\u001b[0;34m\u001b[0m\u001b[0;34m\u001b[0m\u001b[0m\n",
      "\u001b[0;32m~/opt/anaconda3/envs/learn-env/lib/python3.8/site-packages/sklearn/pipeline.py\u001b[0m in \u001b[0;36m_validate_steps\u001b[0;34m(self)\u001b[0m\n\u001b[1;32m    157\u001b[0m             if (not (hasattr(t, \"fit\") or hasattr(t, \"fit_transform\")) or not\n\u001b[1;32m    158\u001b[0m                     hasattr(t, \"transform\")):\n\u001b[0;32m--> 159\u001b[0;31m                 raise TypeError(\"All intermediate steps should be \"\n\u001b[0m\u001b[1;32m    160\u001b[0m                                 \u001b[0;34m\"transformers and implement fit and transform \"\u001b[0m\u001b[0;34m\u001b[0m\u001b[0;34m\u001b[0m\u001b[0m\n\u001b[1;32m    161\u001b[0m                                 \u001b[0;34m\"or be the string 'passthrough' \"\u001b[0m\u001b[0;34m\u001b[0m\u001b[0;34m\u001b[0m\u001b[0m\n",
      "\u001b[0;31mTypeError\u001b[0m: All intermediate steps should be transformers and implement fit and transform or be the string 'passthrough' 'SMOTE()' (type <class 'imblearn.over_sampling._smote.SMOTE'>) doesn't"
     ]
    }
   ],
   "source": [
    "our_pipe = Pipeline(steps=[\n",
    "    ('preprocess', preprocess),\n",
    "    ('smote', SMOTE()),\n",
    "    ('rf', RandomForestClassifier(max_depth=9))\n",
    "])"
   ]
  },
  {
   "cell_type": "markdown",
   "metadata": {},
   "source": [
    "# OH NO!! IT BROKE!!!"
   ]
  },
  {
   "cell_type": "code",
   "execution_count": null,
   "metadata": {},
   "outputs": [],
   "source": []
  },
  {
   "cell_type": "code",
   "execution_count": null,
   "metadata": {},
   "outputs": [],
   "source": []
  },
  {
   "cell_type": "code",
   "execution_count": null,
   "metadata": {},
   "outputs": [],
   "source": []
  },
  {
   "cell_type": "code",
   "execution_count": null,
   "metadata": {},
   "outputs": [],
   "source": []
  },
  {
   "cell_type": "code",
   "execution_count": null,
   "metadata": {},
   "outputs": [],
   "source": []
  },
  {
   "cell_type": "code",
   "execution_count": null,
   "metadata": {},
   "outputs": [],
   "source": []
  },
  {
   "cell_type": "code",
   "execution_count": null,
   "metadata": {},
   "outputs": [],
   "source": []
  },
  {
   "cell_type": "code",
   "execution_count": null,
   "metadata": {},
   "outputs": [],
   "source": []
  },
  {
   "cell_type": "code",
   "execution_count": 28,
   "metadata": {},
   "outputs": [],
   "source": [
    "# from imblearn.pipeline import Pipeline as imbpipeline\n",
    "\n",
    "pipe_model = imbpipeline(steps=[\n",
    "    ('preprocess', preprocess),\n",
    "    ('smote', SMOTE()),\n",
    "    ('rf', RandomForestClassifier())\n",
    "])"
   ]
  },
  {
   "cell_type": "code",
   "execution_count": 29,
   "metadata": {},
   "outputs": [
    {
     "data": {
      "text/plain": [
       "0.9999258435298479"
      ]
     },
     "execution_count": 29,
     "metadata": {},
     "output_type": "execute_result"
    }
   ],
   "source": [
    "pipe_model.fit(X_train, y_train)\n",
    "\n",
    "pipe_model.score(X_train, y_train)"
   ]
  },
  {
   "cell_type": "code",
   "execution_count": 30,
   "metadata": {},
   "outputs": [],
   "source": [
    "def evaluate_model(model, X, y):\n",
    "    \"\"\"\n",
    "    Definition:\n",
    "    Prints classification report and plots a confusion matrix of a model's \n",
    "    performance.\n",
    "    \n",
    "    Args:\n",
    "    model - Model. Can also be a pipeline object.\n",
    "    X - Features.\n",
    "    y - Target.\n",
    "    \n",
    "    Returns:\n",
    "    prints classification report and plots a confusion matrix\n",
    "    \"\"\"\n",
    "    # creating predictions\n",
    "    y_pred = model.predict(X)\n",
    "    \n",
    "    # printing classification report\n",
    "    print(classification_report(y, y_pred))\n",
    "    \n",
    "    # plotting confusion matrix\n",
    "    plot_confusion_matrix(model, X, y,cmap=\"Blues\")\n",
    "    \n",
    "    "
   ]
  },
  {
   "cell_type": "code",
   "execution_count": 31,
   "metadata": {
    "scrolled": false
   },
   "outputs": [
    {
     "name": "stdout",
     "output_type": "stream",
     "text": [
      "              precision    recall  f1-score   support\n",
      "\n",
      "        Fair       1.00      1.00      1.00      1208\n",
      "        Good       1.00      1.00      1.00      3680\n",
      "       Ideal       1.00      1.00      1.00     16163\n",
      "     Premium       1.00      1.00      1.00     10343\n",
      "   Very Good       1.00      1.00      1.00      9061\n",
      "\n",
      "    accuracy                           1.00     40455\n",
      "   macro avg       1.00      1.00      1.00     40455\n",
      "weighted avg       1.00      1.00      1.00     40455\n",
      "\n"
     ]
    },
    {
     "data": {
      "image/png": "[encoded data removed]",
      "text/plain": [
       "<Figure size 432x288 with 2 Axes>"
      ]
     },
     "metadata": {
      "needs_background": "light"
     },
     "output_type": "display_data"
    }
   ],
   "source": [
    "evaluate_model(pipe_model, X_train, y_train)"
   ]
  },
  {
   "cell_type": "code",
   "execution_count": 32,
   "metadata": {},
   "outputs": [
    {
     "name": "stdout",
     "output_type": "stream",
     "text": [
      "              precision    recall  f1-score   support\n",
      "\n",
      "        Fair       0.87      0.89      0.88       402\n",
      "        Good       0.68      0.74      0.71      1226\n",
      "       Ideal       0.83      0.90      0.86      5388\n",
      "     Premium       0.73      0.77      0.75      3448\n",
      "   Very Good       0.63      0.47      0.54      3021\n",
      "\n",
      "    accuracy                           0.76     13485\n",
      "   macro avg       0.75      0.75      0.75     13485\n",
      "weighted avg       0.75      0.76      0.75     13485\n",
      "\n"
     ]
    },
    {
     "data": {
      "image/png": "[encoded data removed]",
      "text/plain": [
       "<Figure size 432x288 with 2 Axes>"
      ]
     },
     "metadata": {
      "needs_background": "light"
     },
     "output_type": "display_data"
    }
   ],
   "source": [
    "evaluate_model(pipe_model, X_test, y_test)"
   ]
  },
  {
   "cell_type": "markdown",
   "metadata": {},
   "source": [
    "### Cross Validation"
   ]
  },
  {
   "cell_type": "code",
   "execution_count": 24,
   "metadata": {},
   "outputs": [],
   "source": [
    "# def find_overfit(estimator, X, y, n_runs=100):\n",
    "#     train_scores = []\n",
    "#     test_scores = []\n",
    "    \n",
    "#     for i in range(n_runs):\n",
    "#         rando = np.random.randint(1, 5000)\n",
    "#         X_tr, X_te, y_tr, y_te = train_test_split(X, y, random_state=rando)\n",
    "        \n",
    "#         cv_dict = cross_validate(estimator, X_tr, y_tr, return_train_score=True)\n",
    "#         train_scores += cv_dict['train_score'].tolist()\n",
    "#         test_scores += cv_dict['test_score'].tolist()\n",
    "    \n",
    "#     #Calculating bin size\n",
    "#     bins = int(np.sqrt(len(train_scores)))\n",
    "#     # Plotting distributions of both train and test scores\n",
    "#     plt.figure(figsize=(10, 10))\n",
    "#     plt.hist(train_scores, bins=bins, alpha=0.5, label='train scores')\n",
    "#     plt.hist(test_scores, bins=bins, alpha=0.5, label='test scores')\n",
    "#     plt.legend(loc='upper right')\n",
    "#     plt.show()\n",
    "    \n",
    "#     avg_tr_score = sum(train_scores)/len(train_scores)\n",
    "#     avg_te_score = sum(test_scores)/len(test_scores)\n",
    "#     p_val = ttest_ind(equal_var=False, a=train_scores, b=test_scores)\n",
    "    \n",
    "#     print(p_val, avg_tr_score, avg_te_score)\n",
    "    "
   ]
  },
  {
   "cell_type": "code",
   "execution_count": 25,
   "metadata": {
    "scrolled": false
   },
   "outputs": [],
   "source": [
    "#find_overfit(pipe_model, X, y, n_runs=10)"
   ]
  },
  {
   "cell_type": "markdown",
   "metadata": {},
   "source": [
    "### Creating param grid for gridsearch"
   ]
  },
  {
   "cell_type": "code",
   "execution_count": 33,
   "metadata": {},
   "outputs": [],
   "source": [
    "param_grid = {\n",
    "    'rf__n_estimators': [50, 100],\n",
    "    'rf__max_depth': [None, 5, 9]\n",
    "}"
   ]
  },
  {
   "cell_type": "code",
   "execution_count": 34,
   "metadata": {},
   "outputs": [],
   "source": [
    "grid = GridSearchCV(pipe_model, param_grid, scoring='f1_macro', verbose=2)"
   ]
  },
  {
   "cell_type": "code",
   "execution_count": 35,
   "metadata": {},
   "outputs": [
    {
     "name": "stdout",
     "output_type": "stream",
     "text": [
      "CPU times: user 2 µs, sys: 0 ns, total: 2 µs\n",
      "Wall time: 4.05 µs\n",
      "Fitting 5 folds for each of 6 candidates, totalling 30 fits\n",
      "[CV] rf__max_depth=None, rf__n_estimators=50 .........................\n"
     ]
    },
    {
     "name": "stderr",
     "output_type": "stream",
     "text": [
      "[Parallel(n_jobs=1)]: Using backend SequentialBackend with 1 concurrent workers.\n"
     ]
    },
    {
     "name": "stdout",
     "output_type": "stream",
     "text": [
      "[CV] .......... rf__max_depth=None, rf__n_estimators=50, total=   5.4s\n",
      "[CV] rf__max_depth=None, rf__n_estimators=50 .........................\n"
     ]
    },
    {
     "name": "stderr",
     "output_type": "stream",
     "text": [
      "[Parallel(n_jobs=1)]: Done   1 out of   1 | elapsed:    5.4s remaining:    0.0s\n"
     ]
    },
    {
     "name": "stdout",
     "output_type": "stream",
     "text": [
      "[CV] .......... rf__max_depth=None, rf__n_estimators=50, total=   5.3s\n",
      "[CV] rf__max_depth=None, rf__n_estimators=50 .........................\n",
      "[CV] .......... rf__max_depth=None, rf__n_estimators=50, total=   5.2s\n",
      "[CV] rf__max_depth=None, rf__n_estimators=50 .........................\n",
      "[CV] .......... rf__max_depth=None, rf__n_estimators=50, total=   5.4s\n",
      "[CV] rf__max_depth=None, rf__n_estimators=50 .........................\n",
      "[CV] .......... rf__max_depth=None, rf__n_estimators=50, total=   5.3s\n",
      "[CV] rf__max_depth=None, rf__n_estimators=100 ........................\n",
      "[CV] ......... rf__max_depth=None, rf__n_estimators=100, total=   9.8s\n",
      "[CV] rf__max_depth=None, rf__n_estimators=100 ........................\n",
      "[CV] ......... rf__max_depth=None, rf__n_estimators=100, total=   9.8s\n",
      "[CV] rf__max_depth=None, rf__n_estimators=100 ........................\n",
      "[CV] ......... rf__max_depth=None, rf__n_estimators=100, total=   9.7s\n",
      "[CV] rf__max_depth=None, rf__n_estimators=100 ........................\n",
      "[CV] ......... rf__max_depth=None, rf__n_estimators=100, total=   9.4s\n",
      "[CV] rf__max_depth=None, rf__n_estimators=100 ........................\n",
      "[CV] ......... rf__max_depth=None, rf__n_estimators=100, total=   9.1s\n",
      "[CV] rf__max_depth=5, rf__n_estimators=50 ............................\n",
      "[CV] ............. rf__max_depth=5, rf__n_estimators=50, total=   2.3s\n",
      "[CV] rf__max_depth=5, rf__n_estimators=50 ............................\n",
      "[CV] ............. rf__max_depth=5, rf__n_estimators=50, total=   2.2s\n",
      "[CV] rf__max_depth=5, rf__n_estimators=50 ............................\n",
      "[CV] ............. rf__max_depth=5, rf__n_estimators=50, total=   2.3s\n",
      "[CV] rf__max_depth=5, rf__n_estimators=50 ............................\n",
      "[CV] ............. rf__max_depth=5, rf__n_estimators=50, total=   2.5s\n",
      "[CV] rf__max_depth=5, rf__n_estimators=50 ............................\n",
      "[CV] ............. rf__max_depth=5, rf__n_estimators=50, total=   2.3s\n",
      "[CV] rf__max_depth=5, rf__n_estimators=100 ...........................\n",
      "[CV] ............ rf__max_depth=5, rf__n_estimators=100, total=   3.7s\n",
      "[CV] rf__max_depth=5, rf__n_estimators=100 ...........................\n",
      "[CV] ............ rf__max_depth=5, rf__n_estimators=100, total=   3.8s\n",
      "[CV] rf__max_depth=5, rf__n_estimators=100 ...........................\n",
      "[CV] ............ rf__max_depth=5, rf__n_estimators=100, total=   3.7s\n",
      "[CV] rf__max_depth=5, rf__n_estimators=100 ...........................\n",
      "[CV] ............ rf__max_depth=5, rf__n_estimators=100, total=   3.7s\n",
      "[CV] rf__max_depth=5, rf__n_estimators=100 ...........................\n",
      "[CV] ............ rf__max_depth=5, rf__n_estimators=100, total=   3.7s\n",
      "[CV] rf__max_depth=9, rf__n_estimators=50 ............................\n",
      "[CV] ............. rf__max_depth=9, rf__n_estimators=50, total=   3.1s\n",
      "[CV] rf__max_depth=9, rf__n_estimators=50 ............................\n",
      "[CV] ............. rf__max_depth=9, rf__n_estimators=50, total=   3.1s\n",
      "[CV] rf__max_depth=9, rf__n_estimators=50 ............................\n",
      "[CV] ............. rf__max_depth=9, rf__n_estimators=50, total=   3.1s\n",
      "[CV] rf__max_depth=9, rf__n_estimators=50 ............................\n",
      "[CV] ............. rf__max_depth=9, rf__n_estimators=50, total=   3.1s\n",
      "[CV] rf__max_depth=9, rf__n_estimators=50 ............................\n",
      "[CV] ............. rf__max_depth=9, rf__n_estimators=50, total=   3.1s\n",
      "[CV] rf__max_depth=9, rf__n_estimators=100 ...........................\n",
      "[CV] ............ rf__max_depth=9, rf__n_estimators=100, total=   5.5s\n",
      "[CV] rf__max_depth=9, rf__n_estimators=100 ...........................\n",
      "[CV] ............ rf__max_depth=9, rf__n_estimators=100, total=   5.2s\n",
      "[CV] rf__max_depth=9, rf__n_estimators=100 ...........................\n",
      "[CV] ............ rf__max_depth=9, rf__n_estimators=100, total=   5.3s\n",
      "[CV] rf__max_depth=9, rf__n_estimators=100 ...........................\n",
      "[CV] ............ rf__max_depth=9, rf__n_estimators=100, total=   5.3s\n",
      "[CV] rf__max_depth=9, rf__n_estimators=100 ...........................\n",
      "[CV] ............ rf__max_depth=9, rf__n_estimators=100, total=   5.5s\n"
     ]
    },
    {
     "name": "stderr",
     "output_type": "stream",
     "text": [
      "[Parallel(n_jobs=1)]: Done  30 out of  30 | elapsed:  2.5min finished\n"
     ]
    },
    {
     "data": {
      "text/plain": [
       "GridSearchCV(estimator=Pipeline(steps=[('preprocess',\n",
       "                                        ColumnTransformer(transformers=[('cat_cleaning',\n",
       "                                                                         Pipeline(steps=[('imputer',\n",
       "                                                                                          SimpleImputer(fill_value='missing',\n",
       "                                                                                                        strategy='constant')),\n",
       "                                                                                         ('ohe',\n",
       "                                                                                          OneHotEncoder(handle_unknown='ignore',\n",
       "                                                                                                        sparse=False))]),\n",
       "                                                                         ['color',\n",
       "                                                                          'clarity']),\n",
       "                                                                        ('num_cleaning',\n",
       "                                                                         Pipeline(steps=[('imputer',\n",
       "                                                                                          SimpleImputer(missing_values=0)),\n",
       "                                                                                         ('scaler',\n",
       "                                                                                          StandardScaler())]),\n",
       "                                                                         ['carat',\n",
       "                                                                          'depth',\n",
       "                                                                          'table',\n",
       "                                                                          'price',\n",
       "                                                                          'x',\n",
       "                                                                          'y',\n",
       "                                                                          'z'])])),\n",
       "                                       ('smote', SMOTE()),\n",
       "                                       ('rf', RandomForestClassifier())]),\n",
       "             param_grid={'rf__max_depth': [None, 5, 9],\n",
       "                         'rf__n_estimators': [50, 100]},\n",
       "             scoring='f1_macro', verbose=2)"
      ]
     },
     "execution_count": 35,
     "metadata": {},
     "output_type": "execute_result"
    }
   ],
   "source": [
    "%time\n",
    "grid.fit(X_train, y_train)"
   ]
  },
  {
   "cell_type": "code",
   "execution_count": 36,
   "metadata": {},
   "outputs": [
    {
     "data": {
      "text/plain": [
       "Pipeline(steps=[('preprocess',\n",
       "                 ColumnTransformer(transformers=[('cat_cleaning',\n",
       "                                                  Pipeline(steps=[('imputer',\n",
       "                                                                   SimpleImputer(fill_value='missing',\n",
       "                                                                                 strategy='constant')),\n",
       "                                                                  ('ohe',\n",
       "                                                                   OneHotEncoder(handle_unknown='ignore',\n",
       "                                                                                 sparse=False))]),\n",
       "                                                  ['color', 'clarity']),\n",
       "                                                 ('num_cleaning',\n",
       "                                                  Pipeline(steps=[('imputer',\n",
       "                                                                   SimpleImputer(missing_values=0)),\n",
       "                                                                  ('scaler',\n",
       "                                                                   StandardScaler())]),\n",
       "                                                  ['carat', 'depth', 'table',\n",
       "                                                   'price', 'x', 'y', 'z'])])),\n",
       "                ('smote', SMOTE()), ('rf', RandomForestClassifier())])"
      ]
     },
     "execution_count": 36,
     "metadata": {},
     "output_type": "execute_result"
    }
   ],
   "source": [
    "grid.best_estimator_"
   ]
  },
  {
   "cell_type": "code",
   "execution_count": 37,
   "metadata": {},
   "outputs": [],
   "source": [
    "best_model = grid.best_estimator_"
   ]
  },
  {
   "cell_type": "code",
   "execution_count": 38,
   "metadata": {
    "scrolled": true
   },
   "outputs": [
    {
     "name": "stdout",
     "output_type": "stream",
     "text": [
      "              precision    recall  f1-score   support\n",
      "\n",
      "        Fair       1.00      1.00      1.00      1208\n",
      "        Good       1.00      1.00      1.00      3680\n",
      "       Ideal       1.00      1.00      1.00     16163\n",
      "     Premium       1.00      1.00      1.00     10343\n",
      "   Very Good       1.00      1.00      1.00      9061\n",
      "\n",
      "    accuracy                           1.00     40455\n",
      "   macro avg       1.00      1.00      1.00     40455\n",
      "weighted avg       1.00      1.00      1.00     40455\n",
      "\n"
     ]
    },
    {
     "data": {
      "image/png": "[encoded data removed]",
      "text/plain": [
       "<Figure size 432x288 with 2 Axes>"
      ]
     },
     "metadata": {
      "needs_background": "light"
     },
     "output_type": "display_data"
    }
   ],
   "source": [
    "evaluate_model(best_model, X_train, y_train)"
   ]
  },
  {
   "cell_type": "code",
   "execution_count": 39,
   "metadata": {
    "scrolled": true
   },
   "outputs": [
    {
     "name": "stdout",
     "output_type": "stream",
     "text": [
      "              precision    recall  f1-score   support\n",
      "\n",
      "        Fair       0.85      0.89      0.87       402\n",
      "        Good       0.67      0.74      0.70      1226\n",
      "       Ideal       0.83      0.90      0.86      5388\n",
      "     Premium       0.74      0.76      0.75      3448\n",
      "   Very Good       0.62      0.47      0.54      3021\n",
      "\n",
      "    accuracy                           0.76     13485\n",
      "   macro avg       0.74      0.75      0.75     13485\n",
      "weighted avg       0.75      0.76      0.75     13485\n",
      "\n"
     ]
    },
    {
     "data": {
      "image/png": "[encoded data removed]",
      "text/plain": [
       "<Figure size 432x288 with 2 Axes>"
      ]
     },
     "metadata": {
      "needs_background": "light"
     },
     "output_type": "display_data"
    }
   ],
   "source": [
    "evaluate_model(best_model, X_test, y_test)"
   ]
  },
  {
   "cell_type": "code",
   "execution_count": 40,
   "metadata": {
    "scrolled": true
   },
   "outputs": [
    {
     "name": "stdout",
     "output_type": "stream",
     "text": [
      "[0.00671998 0.00818296 0.00935633 0.00836443 0.00816405 0.00587143\n",
      " 0.00396366 0.00879474 0.00291647 0.00915349 0.00805084 0.00688646\n",
      " 0.008334   0.00366168 0.00514318 0.0632696  0.32053886 0.17064807\n",
      " 0.07677936 0.09056524 0.0861636  0.08847158]\n"
     ]
    }
   ],
   "source": [
    "print(best_model.named_steps['rf'].feature_importances_)"
   ]
  },
  {
   "cell_type": "code",
   "execution_count": null,
   "metadata": {},
   "outputs": [],
   "source": [
    "raise Exception('Stop here')"
   ]
  },
  {
   "cell_type": "code",
   "execution_count": null,
   "metadata": {},
   "outputs": [],
   "source": [
    "# Inspect our 'best_model' to see how to access the good stuff inside\n",
    "best_model"
   ]
  },
  {
   "cell_type": "code",
   "execution_count": null,
   "metadata": {},
   "outputs": [],
   "source": [
    "best_model. ..."
   ]
  },
  {
   "cell_type": "code",
   "execution_count": null,
   "metadata": {},
   "outputs": [],
   "source": []
  },
  {
   "cell_type": "code",
   "execution_count": null,
   "metadata": {},
   "outputs": [],
   "source": []
  },
  {
   "cell_type": "code",
   "execution_count": null,
   "metadata": {},
   "outputs": [],
   "source": []
  },
  {
   "cell_type": "code",
   "execution_count": null,
   "metadata": {},
   "outputs": [],
   "source": []
  },
  {
   "cell_type": "code",
   "execution_count": null,
   "metadata": {},
   "outputs": [],
   "source": []
  },
  {
   "cell_type": "code",
   "execution_count": null,
   "metadata": {},
   "outputs": [],
   "source": []
  },
  {
   "cell_type": "code",
   "execution_count": 41,
   "metadata": {
    "scrolled": true
   },
   "outputs": [
    {
     "data": {
      "text/plain": [
       "['color_D',\n",
       " 'color_E',\n",
       " 'color_F',\n",
       " 'color_G',\n",
       " 'color_H',\n",
       " 'color_I',\n",
       " 'color_J',\n",
       " 'clarity_I1',\n",
       " 'clarity_IF',\n",
       " 'clarity_SI1',\n",
       " 'clarity_SI2',\n",
       " 'clarity_VS1',\n",
       " 'clarity_VS2',\n",
       " 'clarity_VVS1',\n",
       " 'clarity_VVS2']"
      ]
     },
     "execution_count": 41,
     "metadata": {},
     "output_type": "execute_result"
    }
   ],
   "source": [
    "cat_ohe_cols = best_model.named_steps['preprocess'].named_transformers_['cat_cleaning'].named_steps['ohe'].get_feature_names(cat_cols).tolist()\n",
    "cat_ohe_cols"
   ]
  },
  {
   "cell_type": "code",
   "execution_count": 42,
   "metadata": {},
   "outputs": [
    {
     "data": {
      "text/plain": [
       "['carat', 'depth', 'table', 'price', 'x', 'y', 'z']"
      ]
     },
     "execution_count": 42,
     "metadata": {},
     "output_type": "execute_result"
    }
   ],
   "source": [
    "# remembering we save our num_cols in a variable\n",
    "num_cols"
   ]
  },
  {
   "cell_type": "code",
   "execution_count": 50,
   "metadata": {},
   "outputs": [
    {
     "data": {
      "text/plain": [
       "['carat',\n",
       " 'depth',\n",
       " 'table',\n",
       " 'price',\n",
       " 'x',\n",
       " 'y',\n",
       " 'z',\n",
       " 'color_D',\n",
       " 'color_E',\n",
       " 'color_F',\n",
       " 'color_G',\n",
       " 'color_H',\n",
       " 'color_I',\n",
       " 'color_J',\n",
       " 'clarity_I1',\n",
       " 'clarity_IF',\n",
       " 'clarity_SI1',\n",
       " 'clarity_SI2',\n",
       " 'clarity_VS1',\n",
       " 'clarity_VS2',\n",
       " 'clarity_VVS1',\n",
       " 'clarity_VVS2']"
      ]
     },
     "execution_count": 50,
     "metadata": {},
     "output_type": "execute_result"
    }
   ],
   "source": [
    "feat_cols = num_cols + cat_ohe_cols\n",
    "feat_cols"
   ]
  },
  {
   "cell_type": "code",
   "execution_count": 51,
   "metadata": {
    "scrolled": true
   },
   "outputs": [
    {
     "data": {
      "text/html": [
       "<div>\n",
       "<style scoped>\n",
       "    .dataframe tbody tr th:only-of-type {\n",
       "        vertical-align: middle;\n",
       "    }\n",
       "\n",
       "    .dataframe tbody tr th {\n",
       "        vertical-align: top;\n",
       "    }\n",
       "\n",
       "    .dataframe thead th {\n",
       "        text-align: right;\n",
       "    }\n",
       "</style>\n",
       "<table border=\"1\" class=\"dataframe\">\n",
       "  <thead>\n",
       "    <tr style=\"text-align: right;\">\n",
       "      <th></th>\n",
       "      <th>carat</th>\n",
       "      <th>depth</th>\n",
       "      <th>table</th>\n",
       "      <th>price</th>\n",
       "      <th>x</th>\n",
       "      <th>y</th>\n",
       "      <th>z</th>\n",
       "      <th>color_D</th>\n",
       "      <th>color_E</th>\n",
       "      <th>color_F</th>\n",
       "      <th>...</th>\n",
       "      <th>color_I</th>\n",
       "      <th>color_J</th>\n",
       "      <th>clarity_I1</th>\n",
       "      <th>clarity_IF</th>\n",
       "      <th>clarity_SI1</th>\n",
       "      <th>clarity_SI2</th>\n",
       "      <th>clarity_VS1</th>\n",
       "      <th>clarity_VS2</th>\n",
       "      <th>clarity_VVS1</th>\n",
       "      <th>clarity_VVS2</th>\n",
       "    </tr>\n",
       "  </thead>\n",
       "  <tbody>\n",
       "    <tr>\n",
       "      <th>0</th>\n",
       "      <td>0.0</td>\n",
       "      <td>0.0</td>\n",
       "      <td>1.0</td>\n",
       "      <td>0.0</td>\n",
       "      <td>0.0</td>\n",
       "      <td>0.0</td>\n",
       "      <td>0.0</td>\n",
       "      <td>0.0</td>\n",
       "      <td>0.0</td>\n",
       "      <td>1.0</td>\n",
       "      <td>...</td>\n",
       "      <td>0.0</td>\n",
       "      <td>0.0</td>\n",
       "      <td>0.0</td>\n",
       "      <td>0.524245</td>\n",
       "      <td>-0.803088</td>\n",
       "      <td>0.693520</td>\n",
       "      <td>0.407024</td>\n",
       "      <td>0.688573</td>\n",
       "      <td>0.731092</td>\n",
       "      <td>0.588038</td>\n",
       "    </tr>\n",
       "    <tr>\n",
       "      <th>1</th>\n",
       "      <td>0.0</td>\n",
       "      <td>0.0</td>\n",
       "      <td>0.0</td>\n",
       "      <td>0.0</td>\n",
       "      <td>0.0</td>\n",
       "      <td>1.0</td>\n",
       "      <td>0.0</td>\n",
       "      <td>0.0</td>\n",
       "      <td>0.0</td>\n",
       "      <td>0.0</td>\n",
       "      <td>...</td>\n",
       "      <td>0.0</td>\n",
       "      <td>0.0</td>\n",
       "      <td>0.0</td>\n",
       "      <td>0.986767</td>\n",
       "      <td>0.171312</td>\n",
       "      <td>1.141859</td>\n",
       "      <td>0.219612</td>\n",
       "      <td>1.045385</td>\n",
       "      <td>0.998824</td>\n",
       "      <td>1.026690</td>\n",
       "    </tr>\n",
       "    <tr>\n",
       "      <th>2</th>\n",
       "      <td>0.0</td>\n",
       "      <td>0.0</td>\n",
       "      <td>0.0</td>\n",
       "      <td>1.0</td>\n",
       "      <td>0.0</td>\n",
       "      <td>0.0</td>\n",
       "      <td>0.0</td>\n",
       "      <td>0.0</td>\n",
       "      <td>0.0</td>\n",
       "      <td>0.0</td>\n",
       "      <td>...</td>\n",
       "      <td>0.0</td>\n",
       "      <td>0.0</td>\n",
       "      <td>0.0</td>\n",
       "      <td>0.965743</td>\n",
       "      <td>-5.953485</td>\n",
       "      <td>1.590197</td>\n",
       "      <td>0.252097</td>\n",
       "      <td>1.518161</td>\n",
       "      <td>1.445043</td>\n",
       "      <td>0.559738</td>\n",
       "    </tr>\n",
       "    <tr>\n",
       "      <th>3</th>\n",
       "      <td>0.0</td>\n",
       "      <td>0.0</td>\n",
       "      <td>0.0</td>\n",
       "      <td>0.0</td>\n",
       "      <td>0.0</td>\n",
       "      <td>0.0</td>\n",
       "      <td>1.0</td>\n",
       "      <td>0.0</td>\n",
       "      <td>0.0</td>\n",
       "      <td>0.0</td>\n",
       "      <td>...</td>\n",
       "      <td>1.0</td>\n",
       "      <td>0.0</td>\n",
       "      <td>0.0</td>\n",
       "      <td>-0.085442</td>\n",
       "      <td>-0.385488</td>\n",
       "      <td>-0.203157</td>\n",
       "      <td>-0.437578</td>\n",
       "      <td>0.108753</td>\n",
       "      <td>0.151007</td>\n",
       "      <td>0.078636</td>\n",
       "    </tr>\n",
       "    <tr>\n",
       "      <th>4</th>\n",
       "      <td>0.0</td>\n",
       "      <td>0.0</td>\n",
       "      <td>1.0</td>\n",
       "      <td>0.0</td>\n",
       "      <td>0.0</td>\n",
       "      <td>0.0</td>\n",
       "      <td>0.0</td>\n",
       "      <td>0.0</td>\n",
       "      <td>0.0</td>\n",
       "      <td>0.0</td>\n",
       "      <td>...</td>\n",
       "      <td>1.0</td>\n",
       "      <td>0.0</td>\n",
       "      <td>0.0</td>\n",
       "      <td>0.482198</td>\n",
       "      <td>0.449712</td>\n",
       "      <td>-0.651496</td>\n",
       "      <td>0.698137</td>\n",
       "      <td>0.661812</td>\n",
       "      <td>0.615075</td>\n",
       "      <td>0.687089</td>\n",
       "    </tr>\n",
       "  </tbody>\n",
       "</table>\n",
       "<p>5 rows × 22 columns</p>\n",
       "</div>"
      ],
      "text/plain": [
       "   carat  depth  table  price    x    y    z  color_D  color_E  color_F  ...  \\\n",
       "0    0.0    0.0    1.0    0.0  0.0  0.0  0.0      0.0      0.0      1.0  ...   \n",
       "1    0.0    0.0    0.0    0.0  0.0  1.0  0.0      0.0      0.0      0.0  ...   \n",
       "2    0.0    0.0    0.0    1.0  0.0  0.0  0.0      0.0      0.0      0.0  ...   \n",
       "3    0.0    0.0    0.0    0.0  0.0  0.0  1.0      0.0      0.0      0.0  ...   \n",
       "4    0.0    0.0    1.0    0.0  0.0  0.0  0.0      0.0      0.0      0.0  ...   \n",
       "\n",
       "   color_I  color_J  clarity_I1  clarity_IF  clarity_SI1  clarity_SI2  \\\n",
       "0      0.0      0.0         0.0    0.524245    -0.803088     0.693520   \n",
       "1      0.0      0.0         0.0    0.986767     0.171312     1.141859   \n",
       "2      0.0      0.0         0.0    0.965743    -5.953485     1.590197   \n",
       "3      1.0      0.0         0.0   -0.085442    -0.385488    -0.203157   \n",
       "4      1.0      0.0         0.0    0.482198     0.449712    -0.651496   \n",
       "\n",
       "   clarity_VS1  clarity_VS2  clarity_VVS1  clarity_VVS2  \n",
       "0     0.407024     0.688573      0.731092      0.588038  \n",
       "1     0.219612     1.045385      0.998824      1.026690  \n",
       "2     0.252097     1.518161      1.445043      0.559738  \n",
       "3    -0.437578     0.108753      0.151007      0.078636  \n",
       "4     0.698137     0.661812      0.615075      0.687089  \n",
       "\n",
       "[5 rows x 22 columns]"
      ]
     },
     "execution_count": 51,
     "metadata": {},
     "output_type": "execute_result"
    }
   ],
   "source": [
    "X_train_tf = pd.DataFrame(best_model.named_steps['preprocess'].fit_transform(X_train), columns=feat_cols)\n",
    "X_train_tf.head()"
   ]
  },
  {
   "cell_type": "markdown",
   "metadata": {},
   "source": [
    "# What's going on here?"
   ]
  },
  {
   "cell_type": "code",
   "execution_count": null,
   "metadata": {},
   "outputs": [],
   "source": []
  },
  {
   "cell_type": "code",
   "execution_count": null,
   "metadata": {},
   "outputs": [],
   "source": []
  },
  {
   "cell_type": "code",
   "execution_count": null,
   "metadata": {},
   "outputs": [],
   "source": []
  },
  {
   "cell_type": "code",
   "execution_count": null,
   "metadata": {},
   "outputs": [],
   "source": []
  },
  {
   "cell_type": "code",
   "execution_count": null,
   "metadata": {},
   "outputs": [],
   "source": []
  },
  {
   "cell_type": "code",
   "execution_count": null,
   "metadata": {},
   "outputs": [],
   "source": []
  },
  {
   "cell_type": "code",
   "execution_count": null,
   "metadata": {},
   "outputs": [],
   "source": []
  },
  {
   "cell_type": "code",
   "execution_count": null,
   "metadata": {},
   "outputs": [],
   "source": []
  },
  {
   "cell_type": "code",
   "execution_count": null,
   "metadata": {},
   "outputs": [],
   "source": []
  },
  {
   "cell_type": "code",
   "execution_count": null,
   "metadata": {},
   "outputs": [],
   "source": []
  },
  {
   "cell_type": "code",
   "execution_count": null,
   "metadata": {},
   "outputs": [],
   "source": []
  },
  {
   "cell_type": "markdown",
   "metadata": {},
   "source": [
    "# Order is Important!"
   ]
  },
  {
   "cell_type": "code",
   "execution_count": 52,
   "metadata": {},
   "outputs": [
    {
     "data": {
      "text/html": [
       "<div>\n",
       "<style scoped>\n",
       "    .dataframe tbody tr th:only-of-type {\n",
       "        vertical-align: middle;\n",
       "    }\n",
       "\n",
       "    .dataframe tbody tr th {\n",
       "        vertical-align: top;\n",
       "    }\n",
       "\n",
       "    .dataframe thead th {\n",
       "        text-align: right;\n",
       "    }\n",
       "</style>\n",
       "<table border=\"1\" class=\"dataframe\">\n",
       "  <thead>\n",
       "    <tr style=\"text-align: right;\">\n",
       "      <th></th>\n",
       "      <th>color_D</th>\n",
       "      <th>color_E</th>\n",
       "      <th>color_F</th>\n",
       "      <th>color_G</th>\n",
       "      <th>color_H</th>\n",
       "      <th>color_I</th>\n",
       "      <th>color_J</th>\n",
       "      <th>clarity_I1</th>\n",
       "      <th>clarity_IF</th>\n",
       "      <th>clarity_SI1</th>\n",
       "      <th>...</th>\n",
       "      <th>clarity_VS2</th>\n",
       "      <th>clarity_VVS1</th>\n",
       "      <th>clarity_VVS2</th>\n",
       "      <th>carat</th>\n",
       "      <th>depth</th>\n",
       "      <th>table</th>\n",
       "      <th>price</th>\n",
       "      <th>x</th>\n",
       "      <th>y</th>\n",
       "      <th>z</th>\n",
       "    </tr>\n",
       "  </thead>\n",
       "  <tbody>\n",
       "    <tr>\n",
       "      <th>0</th>\n",
       "      <td>0.0</td>\n",
       "      <td>0.0</td>\n",
       "      <td>1.0</td>\n",
       "      <td>0.0</td>\n",
       "      <td>0.0</td>\n",
       "      <td>0.0</td>\n",
       "      <td>0.0</td>\n",
       "      <td>0.0</td>\n",
       "      <td>0.0</td>\n",
       "      <td>1.0</td>\n",
       "      <td>...</td>\n",
       "      <td>0.0</td>\n",
       "      <td>0.0</td>\n",
       "      <td>0.0</td>\n",
       "      <td>0.524245</td>\n",
       "      <td>-0.803088</td>\n",
       "      <td>0.693520</td>\n",
       "      <td>0.407024</td>\n",
       "      <td>0.688573</td>\n",
       "      <td>0.731092</td>\n",
       "      <td>0.588038</td>\n",
       "    </tr>\n",
       "    <tr>\n",
       "      <th>1</th>\n",
       "      <td>0.0</td>\n",
       "      <td>0.0</td>\n",
       "      <td>0.0</td>\n",
       "      <td>0.0</td>\n",
       "      <td>0.0</td>\n",
       "      <td>1.0</td>\n",
       "      <td>0.0</td>\n",
       "      <td>0.0</td>\n",
       "      <td>0.0</td>\n",
       "      <td>0.0</td>\n",
       "      <td>...</td>\n",
       "      <td>0.0</td>\n",
       "      <td>0.0</td>\n",
       "      <td>0.0</td>\n",
       "      <td>0.986767</td>\n",
       "      <td>0.171312</td>\n",
       "      <td>1.141859</td>\n",
       "      <td>0.219612</td>\n",
       "      <td>1.045385</td>\n",
       "      <td>0.998824</td>\n",
       "      <td>1.026690</td>\n",
       "    </tr>\n",
       "    <tr>\n",
       "      <th>2</th>\n",
       "      <td>0.0</td>\n",
       "      <td>0.0</td>\n",
       "      <td>0.0</td>\n",
       "      <td>1.0</td>\n",
       "      <td>0.0</td>\n",
       "      <td>0.0</td>\n",
       "      <td>0.0</td>\n",
       "      <td>0.0</td>\n",
       "      <td>0.0</td>\n",
       "      <td>0.0</td>\n",
       "      <td>...</td>\n",
       "      <td>0.0</td>\n",
       "      <td>0.0</td>\n",
       "      <td>0.0</td>\n",
       "      <td>0.965743</td>\n",
       "      <td>-5.953485</td>\n",
       "      <td>1.590197</td>\n",
       "      <td>0.252097</td>\n",
       "      <td>1.518161</td>\n",
       "      <td>1.445043</td>\n",
       "      <td>0.559738</td>\n",
       "    </tr>\n",
       "    <tr>\n",
       "      <th>3</th>\n",
       "      <td>0.0</td>\n",
       "      <td>0.0</td>\n",
       "      <td>0.0</td>\n",
       "      <td>0.0</td>\n",
       "      <td>0.0</td>\n",
       "      <td>0.0</td>\n",
       "      <td>1.0</td>\n",
       "      <td>0.0</td>\n",
       "      <td>0.0</td>\n",
       "      <td>0.0</td>\n",
       "      <td>...</td>\n",
       "      <td>1.0</td>\n",
       "      <td>0.0</td>\n",
       "      <td>0.0</td>\n",
       "      <td>-0.085442</td>\n",
       "      <td>-0.385488</td>\n",
       "      <td>-0.203157</td>\n",
       "      <td>-0.437578</td>\n",
       "      <td>0.108753</td>\n",
       "      <td>0.151007</td>\n",
       "      <td>0.078636</td>\n",
       "    </tr>\n",
       "    <tr>\n",
       "      <th>4</th>\n",
       "      <td>0.0</td>\n",
       "      <td>0.0</td>\n",
       "      <td>1.0</td>\n",
       "      <td>0.0</td>\n",
       "      <td>0.0</td>\n",
       "      <td>0.0</td>\n",
       "      <td>0.0</td>\n",
       "      <td>0.0</td>\n",
       "      <td>0.0</td>\n",
       "      <td>0.0</td>\n",
       "      <td>...</td>\n",
       "      <td>1.0</td>\n",
       "      <td>0.0</td>\n",
       "      <td>0.0</td>\n",
       "      <td>0.482198</td>\n",
       "      <td>0.449712</td>\n",
       "      <td>-0.651496</td>\n",
       "      <td>0.698137</td>\n",
       "      <td>0.661812</td>\n",
       "      <td>0.615075</td>\n",
       "      <td>0.687089</td>\n",
       "    </tr>\n",
       "  </tbody>\n",
       "</table>\n",
       "<p>5 rows × 22 columns</p>\n",
       "</div>"
      ],
      "text/plain": [
       "   color_D  color_E  color_F  color_G  color_H  color_I  color_J  clarity_I1  \\\n",
       "0      0.0      0.0      1.0      0.0      0.0      0.0      0.0         0.0   \n",
       "1      0.0      0.0      0.0      0.0      0.0      1.0      0.0         0.0   \n",
       "2      0.0      0.0      0.0      1.0      0.0      0.0      0.0         0.0   \n",
       "3      0.0      0.0      0.0      0.0      0.0      0.0      1.0         0.0   \n",
       "4      0.0      0.0      1.0      0.0      0.0      0.0      0.0         0.0   \n",
       "\n",
       "   clarity_IF  clarity_SI1  ...  clarity_VS2  clarity_VVS1  clarity_VVS2  \\\n",
       "0         0.0          1.0  ...          0.0           0.0           0.0   \n",
       "1         0.0          0.0  ...          0.0           0.0           0.0   \n",
       "2         0.0          0.0  ...          0.0           0.0           0.0   \n",
       "3         0.0          0.0  ...          1.0           0.0           0.0   \n",
       "4         0.0          0.0  ...          1.0           0.0           0.0   \n",
       "\n",
       "      carat     depth     table     price         x         y         z  \n",
       "0  0.524245 -0.803088  0.693520  0.407024  0.688573  0.731092  0.588038  \n",
       "1  0.986767  0.171312  1.141859  0.219612  1.045385  0.998824  1.026690  \n",
       "2  0.965743 -5.953485  1.590197  0.252097  1.518161  1.445043  0.559738  \n",
       "3 -0.085442 -0.385488 -0.203157 -0.437578  0.108753  0.151007  0.078636  \n",
       "4  0.482198  0.449712 -0.651496  0.698137  0.661812  0.615075  0.687089  \n",
       "\n",
       "[5 rows x 22 columns]"
      ]
     },
     "execution_count": 52,
     "metadata": {},
     "output_type": "execute_result"
    }
   ],
   "source": [
    "feat_cols = cat_ohe_cols + num_cols\n",
    "X_train_tf = pd.DataFrame(best_model.named_steps['preprocess'].fit_transform(X_train), columns=feat_cols)\n",
    "X_train_tf.head()"
   ]
  },
  {
   "cell_type": "code",
   "execution_count": 53,
   "metadata": {},
   "outputs": [],
   "source": [
    "important_feats = pd.Series(best_model.named_steps['rf'].feature_importances_, \n",
    "                           index=feat_cols)"
   ]
  },
  {
   "cell_type": "code",
   "execution_count": 54,
   "metadata": {
    "scrolled": true
   },
   "outputs": [
    {
     "data": {
      "text/plain": [
       "depth    0.320539\n",
       "table    0.170648\n",
       "x        0.090565\n",
       "z        0.088472\n",
       "y        0.086164\n",
       "dtype: float64"
      ]
     },
     "execution_count": 54,
     "metadata": {},
     "output_type": "execute_result"
    }
   ],
   "source": [
    "important_feats.sort_values(ascending=False)[:5]"
   ]
  },
  {
   "cell_type": "code",
   "execution_count": 55,
   "metadata": {
    "scrolled": true
   },
   "outputs": [
    {
     "data": {
      "image/png": "[encoded data removed]",
      "text/plain": [
       "<Figure size 432x288 with 1 Axes>"
      ]
     },
     "metadata": {
      "needs_background": "light"
     },
     "output_type": "display_data"
    }
   ],
   "source": [
    "top_feats = important_feats.sort_values(ascending=False).head(10)\n",
    "plt.Figure(figsize=(5, 5))\n",
    "top_feats.sort_values().plot(kind='barh')\n",
    "plt.xlabel('Level of importance')\n",
    "plt.ylabel('Features')\n",
    "plt.title('Blah blah blah');"
   ]
  },
  {
   "cell_type": "code",
   "execution_count": null,
   "metadata": {},
   "outputs": [],
   "source": []
  },
  {
   "cell_type": "code",
   "execution_count": null,
   "metadata": {},
   "outputs": [],
   "source": []
  },
  {
   "cell_type": "code",
   "execution_count": null,
   "metadata": {},
   "outputs": [],
   "source": []
  },
  {
   "cell_type": "code",
   "execution_count": null,
   "metadata": {},
   "outputs": [],
   "source": []
  },
  {
   "cell_type": "code",
   "execution_count": null,
   "metadata": {},
   "outputs": [],
   "source": []
  },
  {
   "cell_type": "code",
   "execution_count": null,
   "metadata": {},
   "outputs": [],
   "source": []
  },
  {
   "cell_type": "code",
   "execution_count": null,
   "metadata": {},
   "outputs": [],
   "source": []
  },
  {
   "cell_type": "code",
   "execution_count": null,
   "metadata": {},
   "outputs": [],
   "source": []
  },
  {
   "cell_type": "code",
   "execution_count": null,
   "metadata": {},
   "outputs": [],
   "source": []
  },
  {
   "cell_type": "code",
   "execution_count": null,
   "metadata": {},
   "outputs": [],
   "source": []
  },
  {
   "cell_type": "code",
   "execution_count": null,
   "metadata": {},
   "outputs": [],
   "source": []
  },
  {
   "cell_type": "code",
   "execution_count": null,
   "metadata": {},
   "outputs": [],
   "source": []
  },
  {
   "cell_type": "code",
   "execution_count": null,
   "metadata": {},
   "outputs": [],
   "source": []
  },
  {
   "cell_type": "markdown",
   "metadata": {},
   "source": [
    "#### Super Basic example of a Function Transformer"
   ]
  },
  {
   "cell_type": "code",
   "execution_count": null,
   "metadata": {},
   "outputs": [],
   "source": [
    "def inflate_price(X):\n",
    "    new_X = X.copy()\n",
    "    new_X['inflated_price'] = new_X['price'] + 100\n",
    "    return new_X"
   ]
  },
  {
   "cell_type": "code",
   "execution_count": null,
   "metadata": {},
   "outputs": [],
   "source": [
    "ft = FunctionTransformer(func=inflate_price)"
   ]
  },
  {
   "cell_type": "code",
   "execution_count": null,
   "metadata": {},
   "outputs": [],
   "source": [
    "ft.fit_transform(X_train)"
   ]
  },
  {
   "cell_type": "code",
   "execution_count": null,
   "metadata": {},
   "outputs": [],
   "source": []
  }
 ],
 "metadata": {
  "kernelspec": {
   "display_name": "learn-env",
   "language": "python",
   "name": "learn-env"
  },
  "language_info": {
   "codemirror_mode": {
    "name": "ipython",
    "version": 3
   },
   "file_extension": ".py",
   "mimetype": "text/x-python",
   "name": "python",
   "nbconvert_exporter": "python",
   "pygments_lexer": "ipython3",
   "version": "3.8.5"
  },
  "toc": {
   "base_numbering": 1,
   "nav_menu": {},
   "number_sections": true,
   "sideBar": true,
   "skip_h1_title": false,
   "title_cell": "Table of Contents",
   "title_sidebar": "Contents",
   "toc_cell": false,
   "toc_position": {},
   "toc_section_display": true,
   "toc_window_display": false
  }
 },
 "nbformat": 4,
 "nbformat_minor": 4
}
