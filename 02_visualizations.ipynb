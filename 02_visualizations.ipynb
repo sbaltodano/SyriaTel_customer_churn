{
 "cells": [
  {
   "cell_type": "code",
   "execution_count": 1,
   "metadata": {},
   "outputs": [],
   "source": [
    "# import libraries\n",
    "import pandas as pd\n",
    "import numpy as np\n",
    "import matplotlib.pyplot as plt\n",
    "import seaborn as sns\n",
    "from scipy import stats\n",
    "from scipy.stats import norm\n",
    "import warnings\n",
    "warnings.filterwarnings('ignore')"
   ]
  },
  {
   "cell_type": "code",
   "execution_count": 2,
   "metadata": {},
   "outputs": [
    {
     "data": {
      "text/html": [
       "<div>\n",
       "<style scoped>\n",
       "    .dataframe tbody tr th:only-of-type {\n",
       "        vertical-align: middle;\n",
       "    }\n",
       "\n",
       "    .dataframe tbody tr th {\n",
       "        vertical-align: top;\n",
       "    }\n",
       "\n",
       "    .dataframe thead th {\n",
       "        text-align: right;\n",
       "    }\n",
       "</style>\n",
       "<table border=\"1\" class=\"dataframe\">\n",
       "  <thead>\n",
       "    <tr style=\"text-align: right;\">\n",
       "      <th></th>\n",
       "      <th>state</th>\n",
       "      <th>account_length</th>\n",
       "      <th>area_code</th>\n",
       "      <th>international_plan</th>\n",
       "      <th>voice_mail_plan</th>\n",
       "      <th>number_vmail_messages</th>\n",
       "      <th>total_day_minutes</th>\n",
       "      <th>total_day_calls</th>\n",
       "      <th>total_day_charge</th>\n",
       "      <th>total_eve_minutes</th>\n",
       "      <th>total_eve_calls</th>\n",
       "      <th>total_eve_charge</th>\n",
       "      <th>total_night_minutes</th>\n",
       "      <th>total_night_calls</th>\n",
       "      <th>total_night_charge</th>\n",
       "      <th>total_intl_minutes</th>\n",
       "      <th>total_intl_calls</th>\n",
       "      <th>total_intl_charge</th>\n",
       "      <th>customer_service_calls</th>\n",
       "      <th>churn</th>\n",
       "    </tr>\n",
       "  </thead>\n",
       "  <tbody>\n",
       "    <tr>\n",
       "      <th>0</th>\n",
       "      <td>KS</td>\n",
       "      <td>128</td>\n",
       "      <td>415</td>\n",
       "      <td>no</td>\n",
       "      <td>yes</td>\n",
       "      <td>25</td>\n",
       "      <td>265.1</td>\n",
       "      <td>110</td>\n",
       "      <td>45.07</td>\n",
       "      <td>197.4</td>\n",
       "      <td>99</td>\n",
       "      <td>16.78</td>\n",
       "      <td>244.7</td>\n",
       "      <td>91</td>\n",
       "      <td>11.01</td>\n",
       "      <td>10.0</td>\n",
       "      <td>3</td>\n",
       "      <td>2.70</td>\n",
       "      <td>1</td>\n",
       "      <td>False</td>\n",
       "    </tr>\n",
       "    <tr>\n",
       "      <th>1</th>\n",
       "      <td>OH</td>\n",
       "      <td>107</td>\n",
       "      <td>415</td>\n",
       "      <td>no</td>\n",
       "      <td>yes</td>\n",
       "      <td>26</td>\n",
       "      <td>161.6</td>\n",
       "      <td>123</td>\n",
       "      <td>27.47</td>\n",
       "      <td>195.5</td>\n",
       "      <td>103</td>\n",
       "      <td>16.62</td>\n",
       "      <td>254.4</td>\n",
       "      <td>103</td>\n",
       "      <td>11.45</td>\n",
       "      <td>13.7</td>\n",
       "      <td>3</td>\n",
       "      <td>3.70</td>\n",
       "      <td>1</td>\n",
       "      <td>False</td>\n",
       "    </tr>\n",
       "    <tr>\n",
       "      <th>2</th>\n",
       "      <td>NJ</td>\n",
       "      <td>137</td>\n",
       "      <td>415</td>\n",
       "      <td>no</td>\n",
       "      <td>no</td>\n",
       "      <td>0</td>\n",
       "      <td>243.4</td>\n",
       "      <td>114</td>\n",
       "      <td>41.38</td>\n",
       "      <td>121.2</td>\n",
       "      <td>110</td>\n",
       "      <td>10.30</td>\n",
       "      <td>162.6</td>\n",
       "      <td>104</td>\n",
       "      <td>7.32</td>\n",
       "      <td>12.2</td>\n",
       "      <td>5</td>\n",
       "      <td>3.29</td>\n",
       "      <td>0</td>\n",
       "      <td>False</td>\n",
       "    </tr>\n",
       "    <tr>\n",
       "      <th>3</th>\n",
       "      <td>OH</td>\n",
       "      <td>84</td>\n",
       "      <td>408</td>\n",
       "      <td>yes</td>\n",
       "      <td>no</td>\n",
       "      <td>0</td>\n",
       "      <td>299.4</td>\n",
       "      <td>71</td>\n",
       "      <td>50.90</td>\n",
       "      <td>61.9</td>\n",
       "      <td>88</td>\n",
       "      <td>5.26</td>\n",
       "      <td>196.9</td>\n",
       "      <td>89</td>\n",
       "      <td>8.86</td>\n",
       "      <td>6.6</td>\n",
       "      <td>7</td>\n",
       "      <td>1.78</td>\n",
       "      <td>2</td>\n",
       "      <td>False</td>\n",
       "    </tr>\n",
       "    <tr>\n",
       "      <th>4</th>\n",
       "      <td>OK</td>\n",
       "      <td>75</td>\n",
       "      <td>415</td>\n",
       "      <td>yes</td>\n",
       "      <td>no</td>\n",
       "      <td>0</td>\n",
       "      <td>166.7</td>\n",
       "      <td>113</td>\n",
       "      <td>28.34</td>\n",
       "      <td>148.3</td>\n",
       "      <td>122</td>\n",
       "      <td>12.61</td>\n",
       "      <td>186.9</td>\n",
       "      <td>121</td>\n",
       "      <td>8.41</td>\n",
       "      <td>10.1</td>\n",
       "      <td>3</td>\n",
       "      <td>2.73</td>\n",
       "      <td>3</td>\n",
       "      <td>False</td>\n",
       "    </tr>\n",
       "  </tbody>\n",
       "</table>\n",
       "</div>"
      ],
      "text/plain": [
       "  state  account_length  area_code international_plan voice_mail_plan  \\\n",
       "0    KS             128        415                 no             yes   \n",
       "1    OH             107        415                 no             yes   \n",
       "2    NJ             137        415                 no              no   \n",
       "3    OH              84        408                yes              no   \n",
       "4    OK              75        415                yes              no   \n",
       "\n",
       "   number_vmail_messages  total_day_minutes  total_day_calls  \\\n",
       "0                     25              265.1              110   \n",
       "1                     26              161.6              123   \n",
       "2                      0              243.4              114   \n",
       "3                      0              299.4               71   \n",
       "4                      0              166.7              113   \n",
       "\n",
       "   total_day_charge  total_eve_minutes  total_eve_calls  total_eve_charge  \\\n",
       "0             45.07              197.4               99             16.78   \n",
       "1             27.47              195.5              103             16.62   \n",
       "2             41.38              121.2              110             10.30   \n",
       "3             50.90               61.9               88              5.26   \n",
       "4             28.34              148.3              122             12.61   \n",
       "\n",
       "   total_night_minutes  total_night_calls  total_night_charge  \\\n",
       "0                244.7                 91               11.01   \n",
       "1                254.4                103               11.45   \n",
       "2                162.6                104                7.32   \n",
       "3                196.9                 89                8.86   \n",
       "4                186.9                121                8.41   \n",
       "\n",
       "   total_intl_minutes  total_intl_calls  total_intl_charge  \\\n",
       "0                10.0                 3               2.70   \n",
       "1                13.7                 3               3.70   \n",
       "2                12.2                 5               3.29   \n",
       "3                 6.6                 7               1.78   \n",
       "4                10.1                 3               2.73   \n",
       "\n",
       "   customer_service_calls  churn  \n",
       "0                       1  False  \n",
       "1                       1  False  \n",
       "2                       0  False  \n",
       "3                       2  False  \n",
       "4                       3  False  "
      ]
     },
     "execution_count": 2,
     "metadata": {},
     "output_type": "execute_result"
    }
   ],
   "source": [
    "# load dataset, drop index, and view head\n",
    "df = pd.read_csv('clean_data.csv')\n",
    "df = df.drop(columns='Unnamed: 0')\n",
    "df.head()"
   ]
  },
  {
   "cell_type": "code",
   "execution_count": 79,
   "metadata": {},
   "outputs": [
    {
     "name": "stdout",
     "output_type": "stream",
     "text": [
      "Day Cost/Min: $0.17\n",
      "Night Cost/Min: $0.05\n",
      "Eve Cost/Min: $0.09\n",
      "International Cost/Min: $0.27\n"
     ]
    }
   ],
   "source": [
    "# Assess cost per minute for each call category\n",
    "df['cost_per_day_call'] = df['total_day_charge'] / df['total_day_minutes']\n",
    "df['cost_per_intl_call'] = df['total_intl_charge'] / df['total_intl_minutes']\n",
    "df['cost_per_night_call'] = df['total_night_charge'] / df['total_night_minutes']\n",
    "df['cost_per_eve_call'] = df['total_eve_charge'] / df['total_eve_minutes']\n",
    "\n",
    "night_call_per_min = np.mean(df['cost_per_night_call'])\n",
    "eve_call_per_min = np.mean(df['cost_per_eve_call'])\n",
    "intl_call_per_min = np.mean(df['cost_per_intl_call'])\n",
    "day_call_per_min = np.mean(df['cost_per_day_call'])\n",
    "\n",
    "print(f'Day Cost/Min: ${round(day_call_per_min, 2)}')\n",
    "print(f'Night Cost/Min: ${round(night_call_per_min, 2)}')\n",
    "print(f'Eve Cost/Min: ${round(eve_call_per_min, 2)}')\n",
    "print(f'International Cost/Min: ${round(intl_call_per_min, 2)}')"
   ]
  },
  {
   "cell_type": "markdown",
   "metadata": {},
   "source": [
    "Day calls are four times as much as night calls, twice as much as eve calls. "
   ]
  },
  {
   "cell_type": "code",
   "execution_count": 80,
   "metadata": {},
   "outputs": [],
   "source": [
    "# create a column for total charges across all 4 call categories (intl, day, eve, churn)\n",
    "df['total_spend'] = df.total_day_charge + df.total_eve_charge + df.total_night_charge + df.total_intl_charge"
   ]
  },
  {
   "cell_type": "code",
   "execution_count": 81,
   "metadata": {},
   "outputs": [
    {
     "data": {
      "text/plain": [
       "<matplotlib.collections.PathCollection at 0x7feac7093310>"
      ]
     },
     "execution_count": 81,
     "metadata": {},
     "output_type": "execute_result"
    },
    {
     "data": {
      "image/png": "[encoded data removed]",
      "text/plain": [
       "<Figure size 432x288 with 1 Axes>"
      ]
     },
     "metadata": {},
     "output_type": "display_data"
    }
   ],
   "source": [
    "# scatter plot for total spend against churn\n",
    "plt.scatter(x = df['churn'], y = df['total_spend'])"
   ]
  },
  {
   "cell_type": "markdown",
   "metadata": {},
   "source": [
    "It does look like the people spending the most have a higher churn, but I will need a better visual to really know."
   ]
  },
  {
   "cell_type": "markdown",
   "metadata": {},
   "source": [
    "There is a normal distribution for total spend, most clients spend $50-70, and the vaues are symetrical on either side of the curve."
   ]
  },
  {
   "cell_type": "code",
   "execution_count": 9,
   "metadata": {
    "scrolled": false
   },
   "outputs": [
    {
     "data": {
      "image/png": "[encoded data removed]",
      "text/plain": [
       "<Figure size 432x288 with 1 Axes>"
      ]
     },
     "metadata": {
      "needs_background": "light"
     },
     "output_type": "display_data"
    }
   ],
   "source": [
    "sns.distplot(df['total_spend'], fit=norm, kde=False)\n",
    "plt.show()"
   ]
  },
  {
   "cell_type": "code",
   "execution_count": 11,
   "metadata": {},
   "outputs": [
    {
     "name": "stdout",
     "output_type": "stream",
     "text": [
      "Churn Rate: 14.49%\n"
     ]
    }
   ],
   "source": [
    "churn_rate = round(sum(df.churn) / len(df.churn) * 100, 2)\n",
    "\n",
    "\n",
    "print('Churn Rate: {0}%'.format(churn_rate))"
   ]
  },
  {
   "cell_type": "code",
   "execution_count": 13,
   "metadata": {
    "scrolled": true
   },
   "outputs": [
    {
     "data": {
      "text/plain": [
       "<matplotlib.axes._subplots.AxesSubplot at 0x7feacbc66d30>"
      ]
     },
     "execution_count": 13,
     "metadata": {},
     "output_type": "execute_result"
    },
    {
     "data": {
      "image/png": "[encoded data removed]",
      "text/plain": [
       "<Figure size 432x288 with 1 Axes>"
      ]
     },
     "metadata": {
      "needs_background": "light"
     },
     "output_type": "display_data"
    }
   ],
   "source": [
    "df['customer_service_calls'].hist()"
   ]
  },
  {
   "cell_type": "code",
   "execution_count": 14,
   "metadata": {},
   "outputs": [],
   "source": [
    "df_churned = df[df.churn != False]"
   ]
  },
  {
   "cell_type": "code",
   "execution_count": 15,
   "metadata": {},
   "outputs": [
    {
     "data": {
      "text/html": [
       "<div>\n",
       "<style scoped>\n",
       "    .dataframe tbody tr th:only-of-type {\n",
       "        vertical-align: middle;\n",
       "    }\n",
       "\n",
       "    .dataframe tbody tr th {\n",
       "        vertical-align: top;\n",
       "    }\n",
       "\n",
       "    .dataframe thead th {\n",
       "        text-align: right;\n",
       "    }\n",
       "</style>\n",
       "<table border=\"1\" class=\"dataframe\">\n",
       "  <thead>\n",
       "    <tr style=\"text-align: right;\">\n",
       "      <th></th>\n",
       "      <th>state</th>\n",
       "      <th>account_length</th>\n",
       "      <th>area_code</th>\n",
       "      <th>international_plan</th>\n",
       "      <th>voice_mail_plan</th>\n",
       "      <th>number_vmail_messages</th>\n",
       "      <th>total_day_minutes</th>\n",
       "      <th>total_day_calls</th>\n",
       "      <th>total_day_charge</th>\n",
       "      <th>total_eve_minutes</th>\n",
       "      <th>...</th>\n",
       "      <th>total_intl_minutes</th>\n",
       "      <th>total_intl_calls</th>\n",
       "      <th>total_intl_charge</th>\n",
       "      <th>customer_service_calls</th>\n",
       "      <th>churn</th>\n",
       "      <th>cost_per_day_call</th>\n",
       "      <th>cost_per_intl_call</th>\n",
       "      <th>cost_per_night_call</th>\n",
       "      <th>cost_per_eve_call</th>\n",
       "      <th>total_spend</th>\n",
       "    </tr>\n",
       "  </thead>\n",
       "  <tbody>\n",
       "    <tr>\n",
       "      <th>10</th>\n",
       "      <td>IN</td>\n",
       "      <td>65</td>\n",
       "      <td>415</td>\n",
       "      <td>no</td>\n",
       "      <td>no</td>\n",
       "      <td>0</td>\n",
       "      <td>129.1</td>\n",
       "      <td>137</td>\n",
       "      <td>21.95</td>\n",
       "      <td>228.5</td>\n",
       "      <td>...</td>\n",
       "      <td>12.7</td>\n",
       "      <td>6</td>\n",
       "      <td>3.43</td>\n",
       "      <td>4</td>\n",
       "      <td>True</td>\n",
       "      <td>0.170023</td>\n",
       "      <td>0.270079</td>\n",
       "      <td>0.045019</td>\n",
       "      <td>0.084989</td>\n",
       "      <td>54.20</td>\n",
       "    </tr>\n",
       "    <tr>\n",
       "      <th>15</th>\n",
       "      <td>NY</td>\n",
       "      <td>161</td>\n",
       "      <td>415</td>\n",
       "      <td>no</td>\n",
       "      <td>no</td>\n",
       "      <td>0</td>\n",
       "      <td>332.9</td>\n",
       "      <td>67</td>\n",
       "      <td>56.59</td>\n",
       "      <td>317.8</td>\n",
       "      <td>...</td>\n",
       "      <td>5.4</td>\n",
       "      <td>9</td>\n",
       "      <td>1.46</td>\n",
       "      <td>4</td>\n",
       "      <td>True</td>\n",
       "      <td>0.169991</td>\n",
       "      <td>0.270370</td>\n",
       "      <td>0.045019</td>\n",
       "      <td>0.084991</td>\n",
       "      <td>92.29</td>\n",
       "    </tr>\n",
       "    <tr>\n",
       "      <th>21</th>\n",
       "      <td>CO</td>\n",
       "      <td>77</td>\n",
       "      <td>408</td>\n",
       "      <td>no</td>\n",
       "      <td>no</td>\n",
       "      <td>0</td>\n",
       "      <td>62.4</td>\n",
       "      <td>89</td>\n",
       "      <td>10.61</td>\n",
       "      <td>169.9</td>\n",
       "      <td>...</td>\n",
       "      <td>5.7</td>\n",
       "      <td>6</td>\n",
       "      <td>1.54</td>\n",
       "      <td>5</td>\n",
       "      <td>True</td>\n",
       "      <td>0.170032</td>\n",
       "      <td>0.270175</td>\n",
       "      <td>0.044990</td>\n",
       "      <td>0.084991</td>\n",
       "      <td>36.02</td>\n",
       "    </tr>\n",
       "    <tr>\n",
       "      <th>33</th>\n",
       "      <td>AZ</td>\n",
       "      <td>12</td>\n",
       "      <td>408</td>\n",
       "      <td>no</td>\n",
       "      <td>no</td>\n",
       "      <td>0</td>\n",
       "      <td>249.6</td>\n",
       "      <td>118</td>\n",
       "      <td>42.43</td>\n",
       "      <td>252.4</td>\n",
       "      <td>...</td>\n",
       "      <td>11.8</td>\n",
       "      <td>3</td>\n",
       "      <td>3.19</td>\n",
       "      <td>1</td>\n",
       "      <td>True</td>\n",
       "      <td>0.169992</td>\n",
       "      <td>0.270339</td>\n",
       "      <td>0.045004</td>\n",
       "      <td>0.084984</td>\n",
       "      <td>79.68</td>\n",
       "    </tr>\n",
       "    <tr>\n",
       "      <th>41</th>\n",
       "      <td>MD</td>\n",
       "      <td>135</td>\n",
       "      <td>408</td>\n",
       "      <td>yes</td>\n",
       "      <td>yes</td>\n",
       "      <td>41</td>\n",
       "      <td>173.1</td>\n",
       "      <td>85</td>\n",
       "      <td>29.43</td>\n",
       "      <td>203.9</td>\n",
       "      <td>...</td>\n",
       "      <td>14.6</td>\n",
       "      <td>15</td>\n",
       "      <td>3.94</td>\n",
       "      <td>0</td>\n",
       "      <td>True</td>\n",
       "      <td>0.170017</td>\n",
       "      <td>0.269863</td>\n",
       "      <td>0.045008</td>\n",
       "      <td>0.084993</td>\n",
       "      <td>56.20</td>\n",
       "    </tr>\n",
       "  </tbody>\n",
       "</table>\n",
       "<p>5 rows × 25 columns</p>\n",
       "</div>"
      ],
      "text/plain": [
       "   state  account_length  area_code international_plan voice_mail_plan  \\\n",
       "10    IN              65        415                 no              no   \n",
       "15    NY             161        415                 no              no   \n",
       "21    CO              77        408                 no              no   \n",
       "33    AZ              12        408                 no              no   \n",
       "41    MD             135        408                yes             yes   \n",
       "\n",
       "    number_vmail_messages  total_day_minutes  total_day_calls  \\\n",
       "10                      0              129.1              137   \n",
       "15                      0              332.9               67   \n",
       "21                      0               62.4               89   \n",
       "33                      0              249.6              118   \n",
       "41                     41              173.1               85   \n",
       "\n",
       "    total_day_charge  total_eve_minutes  ...  total_intl_minutes  \\\n",
       "10             21.95              228.5  ...                12.7   \n",
       "15             56.59              317.8  ...                 5.4   \n",
       "21             10.61              169.9  ...                 5.7   \n",
       "33             42.43              252.4  ...                11.8   \n",
       "41             29.43              203.9  ...                14.6   \n",
       "\n",
       "    total_intl_calls  total_intl_charge  customer_service_calls  churn  \\\n",
       "10                 6               3.43                       4   True   \n",
       "15                 9               1.46                       4   True   \n",
       "21                 6               1.54                       5   True   \n",
       "33                 3               3.19                       1   True   \n",
       "41                15               3.94                       0   True   \n",
       "\n",
       "    cost_per_day_call  cost_per_intl_call  cost_per_night_call  \\\n",
       "10           0.170023            0.270079             0.045019   \n",
       "15           0.169991            0.270370             0.045019   \n",
       "21           0.170032            0.270175             0.044990   \n",
       "33           0.169992            0.270339             0.045004   \n",
       "41           0.170017            0.269863             0.045008   \n",
       "\n",
       "    cost_per_eve_call  total_spend  \n",
       "10           0.084989        54.20  \n",
       "15           0.084991        92.29  \n",
       "21           0.084991        36.02  \n",
       "33           0.084984        79.68  \n",
       "41           0.084993        56.20  \n",
       "\n",
       "[5 rows x 25 columns]"
      ]
     },
     "execution_count": 15,
     "metadata": {},
     "output_type": "execute_result"
    }
   ],
   "source": [
    "df_churned.head()"
   ]
  },
  {
   "cell_type": "code",
   "execution_count": 16,
   "metadata": {},
   "outputs": [
    {
     "data": {
      "text/html": [
       "<div>\n",
       "<style scoped>\n",
       "    .dataframe tbody tr th:only-of-type {\n",
       "        vertical-align: middle;\n",
       "    }\n",
       "\n",
       "    .dataframe tbody tr th {\n",
       "        vertical-align: top;\n",
       "    }\n",
       "\n",
       "    .dataframe thead th {\n",
       "        text-align: right;\n",
       "    }\n",
       "</style>\n",
       "<table border=\"1\" class=\"dataframe\">\n",
       "  <thead>\n",
       "    <tr style=\"text-align: right;\">\n",
       "      <th></th>\n",
       "      <th>state</th>\n",
       "      <th>account_length</th>\n",
       "      <th>area_code</th>\n",
       "      <th>international_plan</th>\n",
       "      <th>voice_mail_plan</th>\n",
       "      <th>number_vmail_messages</th>\n",
       "      <th>total_day_minutes</th>\n",
       "      <th>total_day_calls</th>\n",
       "      <th>total_day_charge</th>\n",
       "      <th>total_eve_minutes</th>\n",
       "      <th>...</th>\n",
       "      <th>total_intl_calls</th>\n",
       "      <th>total_intl_charge</th>\n",
       "      <th>customer_service_calls</th>\n",
       "      <th>churn</th>\n",
       "      <th>cost_per_day_call</th>\n",
       "      <th>cost_per_intl_call</th>\n",
       "      <th>cost_per_night_call</th>\n",
       "      <th>cost_per_eve_call</th>\n",
       "      <th>total_spend</th>\n",
       "      <th>called_cs</th>\n",
       "    </tr>\n",
       "  </thead>\n",
       "  <tbody>\n",
       "    <tr>\n",
       "      <th>0</th>\n",
       "      <td>KS</td>\n",
       "      <td>128</td>\n",
       "      <td>415</td>\n",
       "      <td>no</td>\n",
       "      <td>yes</td>\n",
       "      <td>25</td>\n",
       "      <td>265.1</td>\n",
       "      <td>110</td>\n",
       "      <td>45.07</td>\n",
       "      <td>197.4</td>\n",
       "      <td>...</td>\n",
       "      <td>3</td>\n",
       "      <td>2.70</td>\n",
       "      <td>1</td>\n",
       "      <td>False</td>\n",
       "      <td>0.170011</td>\n",
       "      <td>0.270000</td>\n",
       "      <td>0.044994</td>\n",
       "      <td>0.085005</td>\n",
       "      <td>75.56</td>\n",
       "      <td>True</td>\n",
       "    </tr>\n",
       "    <tr>\n",
       "      <th>1</th>\n",
       "      <td>OH</td>\n",
       "      <td>107</td>\n",
       "      <td>415</td>\n",
       "      <td>no</td>\n",
       "      <td>yes</td>\n",
       "      <td>26</td>\n",
       "      <td>161.6</td>\n",
       "      <td>123</td>\n",
       "      <td>27.47</td>\n",
       "      <td>195.5</td>\n",
       "      <td>...</td>\n",
       "      <td>3</td>\n",
       "      <td>3.70</td>\n",
       "      <td>1</td>\n",
       "      <td>False</td>\n",
       "      <td>0.169988</td>\n",
       "      <td>0.270073</td>\n",
       "      <td>0.045008</td>\n",
       "      <td>0.085013</td>\n",
       "      <td>59.24</td>\n",
       "      <td>True</td>\n",
       "    </tr>\n",
       "    <tr>\n",
       "      <th>2</th>\n",
       "      <td>NJ</td>\n",
       "      <td>137</td>\n",
       "      <td>415</td>\n",
       "      <td>no</td>\n",
       "      <td>no</td>\n",
       "      <td>0</td>\n",
       "      <td>243.4</td>\n",
       "      <td>114</td>\n",
       "      <td>41.38</td>\n",
       "      <td>121.2</td>\n",
       "      <td>...</td>\n",
       "      <td>5</td>\n",
       "      <td>3.29</td>\n",
       "      <td>0</td>\n",
       "      <td>False</td>\n",
       "      <td>0.170008</td>\n",
       "      <td>0.269672</td>\n",
       "      <td>0.045018</td>\n",
       "      <td>0.084983</td>\n",
       "      <td>62.29</td>\n",
       "      <td>False</td>\n",
       "    </tr>\n",
       "    <tr>\n",
       "      <th>3</th>\n",
       "      <td>OH</td>\n",
       "      <td>84</td>\n",
       "      <td>408</td>\n",
       "      <td>yes</td>\n",
       "      <td>no</td>\n",
       "      <td>0</td>\n",
       "      <td>299.4</td>\n",
       "      <td>71</td>\n",
       "      <td>50.90</td>\n",
       "      <td>61.9</td>\n",
       "      <td>...</td>\n",
       "      <td>7</td>\n",
       "      <td>1.78</td>\n",
       "      <td>2</td>\n",
       "      <td>False</td>\n",
       "      <td>0.170007</td>\n",
       "      <td>0.269697</td>\n",
       "      <td>0.044997</td>\n",
       "      <td>0.084976</td>\n",
       "      <td>66.80</td>\n",
       "      <td>True</td>\n",
       "    </tr>\n",
       "    <tr>\n",
       "      <th>4</th>\n",
       "      <td>OK</td>\n",
       "      <td>75</td>\n",
       "      <td>415</td>\n",
       "      <td>yes</td>\n",
       "      <td>no</td>\n",
       "      <td>0</td>\n",
       "      <td>166.7</td>\n",
       "      <td>113</td>\n",
       "      <td>28.34</td>\n",
       "      <td>148.3</td>\n",
       "      <td>...</td>\n",
       "      <td>3</td>\n",
       "      <td>2.73</td>\n",
       "      <td>3</td>\n",
       "      <td>False</td>\n",
       "      <td>0.170006</td>\n",
       "      <td>0.270297</td>\n",
       "      <td>0.044997</td>\n",
       "      <td>0.085030</td>\n",
       "      <td>52.09</td>\n",
       "      <td>True</td>\n",
       "    </tr>\n",
       "  </tbody>\n",
       "</table>\n",
       "<p>5 rows × 26 columns</p>\n",
       "</div>"
      ],
      "text/plain": [
       "  state  account_length  area_code international_plan voice_mail_plan  \\\n",
       "0    KS             128        415                 no             yes   \n",
       "1    OH             107        415                 no             yes   \n",
       "2    NJ             137        415                 no              no   \n",
       "3    OH              84        408                yes              no   \n",
       "4    OK              75        415                yes              no   \n",
       "\n",
       "   number_vmail_messages  total_day_minutes  total_day_calls  \\\n",
       "0                     25              265.1              110   \n",
       "1                     26              161.6              123   \n",
       "2                      0              243.4              114   \n",
       "3                      0              299.4               71   \n",
       "4                      0              166.7              113   \n",
       "\n",
       "   total_day_charge  total_eve_minutes  ...  total_intl_calls  \\\n",
       "0             45.07              197.4  ...                 3   \n",
       "1             27.47              195.5  ...                 3   \n",
       "2             41.38              121.2  ...                 5   \n",
       "3             50.90               61.9  ...                 7   \n",
       "4             28.34              148.3  ...                 3   \n",
       "\n",
       "   total_intl_charge  customer_service_calls  churn  cost_per_day_call  \\\n",
       "0               2.70                       1  False           0.170011   \n",
       "1               3.70                       1  False           0.169988   \n",
       "2               3.29                       0  False           0.170008   \n",
       "3               1.78                       2  False           0.170007   \n",
       "4               2.73                       3  False           0.170006   \n",
       "\n",
       "   cost_per_intl_call  cost_per_night_call  cost_per_eve_call  total_spend  \\\n",
       "0            0.270000             0.044994           0.085005        75.56   \n",
       "1            0.270073             0.045008           0.085013        59.24   \n",
       "2            0.269672             0.045018           0.084983        62.29   \n",
       "3            0.269697             0.044997           0.084976        66.80   \n",
       "4            0.270297             0.044997           0.085030        52.09   \n",
       "\n",
       "   called_cs  \n",
       "0       True  \n",
       "1       True  \n",
       "2      False  \n",
       "3       True  \n",
       "4       True  \n",
       "\n",
       "[5 rows x 26 columns]"
      ]
     },
     "metadata": {},
     "output_type": "display_data"
    },
    {
     "data": {
      "text/html": [
       "<div>\n",
       "<style scoped>\n",
       "    .dataframe tbody tr th:only-of-type {\n",
       "        vertical-align: middle;\n",
       "    }\n",
       "\n",
       "    .dataframe tbody tr th {\n",
       "        vertical-align: top;\n",
       "    }\n",
       "\n",
       "    .dataframe thead th {\n",
       "        text-align: right;\n",
       "    }\n",
       "</style>\n",
       "<table border=\"1\" class=\"dataframe\">\n",
       "  <thead>\n",
       "    <tr style=\"text-align: right;\">\n",
       "      <th></th>\n",
       "      <th>state</th>\n",
       "      <th>account_length</th>\n",
       "      <th>area_code</th>\n",
       "      <th>international_plan</th>\n",
       "      <th>voice_mail_plan</th>\n",
       "      <th>number_vmail_messages</th>\n",
       "      <th>total_day_minutes</th>\n",
       "      <th>total_day_calls</th>\n",
       "      <th>total_day_charge</th>\n",
       "      <th>total_eve_minutes</th>\n",
       "      <th>...</th>\n",
       "      <th>total_intl_calls</th>\n",
       "      <th>total_intl_charge</th>\n",
       "      <th>customer_service_calls</th>\n",
       "      <th>churn</th>\n",
       "      <th>cost_per_day_call</th>\n",
       "      <th>cost_per_intl_call</th>\n",
       "      <th>cost_per_night_call</th>\n",
       "      <th>cost_per_eve_call</th>\n",
       "      <th>total_spend</th>\n",
       "      <th>called_cs</th>\n",
       "    </tr>\n",
       "  </thead>\n",
       "  <tbody>\n",
       "    <tr>\n",
       "      <th>10</th>\n",
       "      <td>IN</td>\n",
       "      <td>65</td>\n",
       "      <td>415</td>\n",
       "      <td>no</td>\n",
       "      <td>no</td>\n",
       "      <td>0</td>\n",
       "      <td>129.1</td>\n",
       "      <td>137</td>\n",
       "      <td>21.95</td>\n",
       "      <td>228.5</td>\n",
       "      <td>...</td>\n",
       "      <td>6</td>\n",
       "      <td>3.43</td>\n",
       "      <td>4</td>\n",
       "      <td>True</td>\n",
       "      <td>0.170023</td>\n",
       "      <td>0.270079</td>\n",
       "      <td>0.045019</td>\n",
       "      <td>0.084989</td>\n",
       "      <td>54.20</td>\n",
       "      <td>True</td>\n",
       "    </tr>\n",
       "    <tr>\n",
       "      <th>15</th>\n",
       "      <td>NY</td>\n",
       "      <td>161</td>\n",
       "      <td>415</td>\n",
       "      <td>no</td>\n",
       "      <td>no</td>\n",
       "      <td>0</td>\n",
       "      <td>332.9</td>\n",
       "      <td>67</td>\n",
       "      <td>56.59</td>\n",
       "      <td>317.8</td>\n",
       "      <td>...</td>\n",
       "      <td>9</td>\n",
       "      <td>1.46</td>\n",
       "      <td>4</td>\n",
       "      <td>True</td>\n",
       "      <td>0.169991</td>\n",
       "      <td>0.270370</td>\n",
       "      <td>0.045019</td>\n",
       "      <td>0.084991</td>\n",
       "      <td>92.29</td>\n",
       "      <td>True</td>\n",
       "    </tr>\n",
       "    <tr>\n",
       "      <th>21</th>\n",
       "      <td>CO</td>\n",
       "      <td>77</td>\n",
       "      <td>408</td>\n",
       "      <td>no</td>\n",
       "      <td>no</td>\n",
       "      <td>0</td>\n",
       "      <td>62.4</td>\n",
       "      <td>89</td>\n",
       "      <td>10.61</td>\n",
       "      <td>169.9</td>\n",
       "      <td>...</td>\n",
       "      <td>6</td>\n",
       "      <td>1.54</td>\n",
       "      <td>5</td>\n",
       "      <td>True</td>\n",
       "      <td>0.170032</td>\n",
       "      <td>0.270175</td>\n",
       "      <td>0.044990</td>\n",
       "      <td>0.084991</td>\n",
       "      <td>36.02</td>\n",
       "      <td>True</td>\n",
       "    </tr>\n",
       "    <tr>\n",
       "      <th>33</th>\n",
       "      <td>AZ</td>\n",
       "      <td>12</td>\n",
       "      <td>408</td>\n",
       "      <td>no</td>\n",
       "      <td>no</td>\n",
       "      <td>0</td>\n",
       "      <td>249.6</td>\n",
       "      <td>118</td>\n",
       "      <td>42.43</td>\n",
       "      <td>252.4</td>\n",
       "      <td>...</td>\n",
       "      <td>3</td>\n",
       "      <td>3.19</td>\n",
       "      <td>1</td>\n",
       "      <td>True</td>\n",
       "      <td>0.169992</td>\n",
       "      <td>0.270339</td>\n",
       "      <td>0.045004</td>\n",
       "      <td>0.084984</td>\n",
       "      <td>79.68</td>\n",
       "      <td>True</td>\n",
       "    </tr>\n",
       "    <tr>\n",
       "      <th>41</th>\n",
       "      <td>MD</td>\n",
       "      <td>135</td>\n",
       "      <td>408</td>\n",
       "      <td>yes</td>\n",
       "      <td>yes</td>\n",
       "      <td>41</td>\n",
       "      <td>173.1</td>\n",
       "      <td>85</td>\n",
       "      <td>29.43</td>\n",
       "      <td>203.9</td>\n",
       "      <td>...</td>\n",
       "      <td>15</td>\n",
       "      <td>3.94</td>\n",
       "      <td>0</td>\n",
       "      <td>True</td>\n",
       "      <td>0.170017</td>\n",
       "      <td>0.269863</td>\n",
       "      <td>0.045008</td>\n",
       "      <td>0.084993</td>\n",
       "      <td>56.20</td>\n",
       "      <td>False</td>\n",
       "    </tr>\n",
       "  </tbody>\n",
       "</table>\n",
       "<p>5 rows × 26 columns</p>\n",
       "</div>"
      ],
      "text/plain": [
       "   state  account_length  area_code international_plan voice_mail_plan  \\\n",
       "10    IN              65        415                 no              no   \n",
       "15    NY             161        415                 no              no   \n",
       "21    CO              77        408                 no              no   \n",
       "33    AZ              12        408                 no              no   \n",
       "41    MD             135        408                yes             yes   \n",
       "\n",
       "    number_vmail_messages  total_day_minutes  total_day_calls  \\\n",
       "10                      0              129.1              137   \n",
       "15                      0              332.9               67   \n",
       "21                      0               62.4               89   \n",
       "33                      0              249.6              118   \n",
       "41                     41              173.1               85   \n",
       "\n",
       "    total_day_charge  total_eve_minutes  ...  total_intl_calls  \\\n",
       "10             21.95              228.5  ...                 6   \n",
       "15             56.59              317.8  ...                 9   \n",
       "21             10.61              169.9  ...                 6   \n",
       "33             42.43              252.4  ...                 3   \n",
       "41             29.43              203.9  ...                15   \n",
       "\n",
       "    total_intl_charge  customer_service_calls  churn  cost_per_day_call  \\\n",
       "10               3.43                       4   True           0.170023   \n",
       "15               1.46                       4   True           0.169991   \n",
       "21               1.54                       5   True           0.170032   \n",
       "33               3.19                       1   True           0.169992   \n",
       "41               3.94                       0   True           0.170017   \n",
       "\n",
       "    cost_per_intl_call  cost_per_night_call  cost_per_eve_call  total_spend  \\\n",
       "10            0.270079             0.045019           0.084989        54.20   \n",
       "15            0.270370             0.045019           0.084991        92.29   \n",
       "21            0.270175             0.044990           0.084991        36.02   \n",
       "33            0.270339             0.045004           0.084984        79.68   \n",
       "41            0.269863             0.045008           0.084993        56.20   \n",
       "\n",
       "    called_cs  \n",
       "10       True  \n",
       "15       True  \n",
       "21       True  \n",
       "33       True  \n",
       "41      False  \n",
       "\n",
       "[5 rows x 26 columns]"
      ]
     },
     "metadata": {},
     "output_type": "display_data"
    }
   ],
   "source": [
    "df_churned['called_cs'] = df_churned['customer_service_calls'] >=1\n",
    "df['called_cs'] = df['customer_service_calls'] >=1\n",
    "\n",
    "display(df.head())\n",
    "display(df_churned.head())"
   ]
  },
  {
   "cell_type": "code",
   "execution_count": 17,
   "metadata": {
    "scrolled": true
   },
   "outputs": [
    {
     "data": {
      "text/plain": [
       "0.8095238095238095"
      ]
     },
     "execution_count": 17,
     "metadata": {},
     "output_type": "execute_result"
    }
   ],
   "source": [
    "sum(df_churned['called_cs'] == True) / len(df_churned['called_cs'])"
   ]
  },
  {
   "cell_type": "code",
   "execution_count": 18,
   "metadata": {},
   "outputs": [
    {
     "data": {
      "text/plain": [
       "0.7908790879087909"
      ]
     },
     "execution_count": 18,
     "metadata": {},
     "output_type": "execute_result"
    }
   ],
   "source": [
    "sum(df['called_cs'] == True) / len(df['called_cs'])"
   ]
  },
  {
   "cell_type": "markdown",
   "metadata": {},
   "source": [
    "79% of all clients have made one or more customer service calls and 81% of all churned clients made one call or more. These numbers are fairly proportionate, menaing that a single call or more to customer service is not an indicator of churn, it may be true that clients who make more calls are more likely to churn, but I will need to assess this further."
   ]
  },
  {
   "cell_type": "code",
   "execution_count": 19,
   "metadata": {
    "scrolled": true
   },
   "outputs": [
    {
     "data": {
      "text/plain": [
       "1    122\n",
       "0     92\n",
       "2     87\n",
       "4     76\n",
       "3     44\n",
       "5     40\n",
       "6     14\n",
       "7      5\n",
       "9      2\n",
       "8      1\n",
       "Name: customer_service_calls, dtype: int64"
      ]
     },
     "execution_count": 19,
     "metadata": {},
     "output_type": "execute_result"
    }
   ],
   "source": [
    "df_churned['customer_service_calls'].value_counts()"
   ]
  },
  {
   "cell_type": "code",
   "execution_count": 20,
   "metadata": {},
   "outputs": [
    {
     "data": {
      "text/plain": [
       "1    1181\n",
       "2     759\n",
       "0     697\n",
       "3     429\n",
       "4     166\n",
       "5      66\n",
       "6      22\n",
       "7       9\n",
       "9       2\n",
       "8       2\n",
       "Name: customer_service_calls, dtype: int64"
      ]
     },
     "execution_count": 20,
     "metadata": {},
     "output_type": "execute_result"
    }
   ],
   "source": [
    "df['customer_service_calls'].value_counts()"
   ]
  },
  {
   "cell_type": "code",
   "execution_count": 21,
   "metadata": {},
   "outputs": [
    {
     "data": {
      "text/plain": [
       "[13.0, 10.0, 11.0, 10.0, 46.0, 61.0, 64.0, 56.0, 50.0, 100.0]"
      ]
     },
     "execution_count": 21,
     "metadata": {},
     "output_type": "execute_result"
    }
   ],
   "source": [
    "churn_by_cs_calls = []\n",
    "\n",
    "for x in range(0,10):\n",
    "    churn_by_cs_calls.append(round(sum(df_churned['customer_service_calls'] == x) / \n",
    "                             sum(df['customer_service_calls'] == x) * 100, 0))\n",
    "churn_by_cs_calls"
   ]
  },
  {
   "cell_type": "code",
   "execution_count": 22,
   "metadata": {},
   "outputs": [
    {
     "data": {
      "text/plain": [
       "[14.0, 15.0, 18.0, 26.0, 52.0, 61.0, 63.0, 62.0, 75.0, 100.0]"
      ]
     },
     "execution_count": 22,
     "metadata": {},
     "output_type": "execute_result"
    }
   ],
   "source": [
    "churn_by_cs_calls_range = []\n",
    "\n",
    "for x in range(0,10):\n",
    "    churn_by_cs_calls_range.append(round(sum(df_churned['customer_service_calls'] >= x) / \n",
    "                             sum(df['customer_service_calls'] >= x) * 100, 0))\n",
    "churn_by_cs_calls_range"
   ]
  },
  {
   "cell_type": "markdown",
   "metadata": {},
   "source": [
    "Over 50% of the clients making 5 or more customer service calls will churn. Churn really becomes an issue at the 4th call when churn jumps by nearly 5x. "
   ]
  },
  {
   "cell_type": "code",
   "execution_count": 25,
   "metadata": {},
   "outputs": [
    {
     "data": {
      "image/png": "[encoded data removed]",
      "text/plain": [
       "<Figure size 864x576 with 1 Axes>"
      ]
     },
     "metadata": {},
     "output_type": "display_data"
    }
   ],
   "source": [
    "sns.set()\n",
    "x = range(0,10)\n",
    "plt.figure(figsize=(12,8))\n",
    "plt.bar(x=x, height=churn_by_cs_calls,\n",
    "        width = 0.6, tick_label=x, color='darkred')\n",
    "for index,data in enumerate(churn_by_cs_calls):\n",
    "    plt.text(x=index , \n",
    "             y =data+1 , \n",
    "             s=f\"{data}%\" , \n",
    "             fontdict=dict(fontsize=11))\n",
    "\n",
    "plt.axhline(14.5, label='Company Average Churn', ls='--', color='lightblue')\n",
    "plt.ylabel('% Churn', size=14)\n",
    "plt.xlabel('Calls To Customer Service', size=14)\n",
    "plt.xticks(fontsize=12)\n",
    "plt.yticks(fontsize=12)\n",
    "plt.legend()\n",
    "fig1 = plt.gcf()\n",
    "plt.show()\n",
    "fig1.savefig('tessstttyyy.png', dpi=100)"
   ]
  },
  {
   "cell_type": "code",
   "execution_count": 26,
   "metadata": {
    "scrolled": false
   },
   "outputs": [
    {
     "data": {
      "text/plain": [
       "<matplotlib.axes._subplots.AxesSubplot at 0x7feacc50a5e0>"
      ]
     },
     "execution_count": 26,
     "metadata": {},
     "output_type": "execute_result"
    },
    {
     "data": {
      "image/png": "[encoded data removed]",
      "text/plain": [
       "<Figure size 432x288 with 1 Axes>"
      ]
     },
     "metadata": {},
     "output_type": "display_data"
    }
   ],
   "source": [
    "sns.barplot(x=[0,1,2,3,4,5,6,7,8,9], y=[13.0, 10.0, 11.0, 10.0, 46.0, 61.0, 64.0, 56.0, 50.0, 100.0])"
   ]
  },
  {
   "cell_type": "code",
   "execution_count": 27,
   "metadata": {
    "scrolled": false
   },
   "outputs": [
    {
     "data": {
      "text/plain": [
       "0.6153846153846154"
      ]
     },
     "execution_count": 27,
     "metadata": {},
     "output_type": "execute_result"
    }
   ],
   "source": [
    "sum(df_churned['customer_service_calls'] >= 7) / sum(df['customer_service_calls'] >= 7)"
   ]
  },
  {
   "cell_type": "code",
   "execution_count": 32,
   "metadata": {},
   "outputs": [
    {
     "data": {
      "text/plain": [
       "0.7908790879087909"
      ]
     },
     "execution_count": 32,
     "metadata": {},
     "output_type": "execute_result"
    }
   ],
   "source": [
    "sum(df['called_cs'] == True) / len(df['called_cs'])"
   ]
  },
  {
   "cell_type": "code",
   "execution_count": 38,
   "metadata": {
    "scrolled": true
   },
   "outputs": [
    {
     "data": {
      "image/png": "[encoded data removed]",
      "text/plain": [
       "<Figure size 432x288 with 1 Axes>"
      ]
     },
     "metadata": {},
     "output_type": "display_data"
    }
   ],
   "source": [
    "sns.histplot(df['total_day_charge'], bins=5)\n",
    "plt.show()"
   ]
  },
  {
   "cell_type": "code",
   "execution_count": 40,
   "metadata": {},
   "outputs": [
    {
     "data": {
      "image/png": "[encoded data removed]",
      "text/plain": [
       "<Figure size 432x288 with 1 Axes>"
      ]
     },
     "metadata": {},
     "output_type": "display_data"
    },
    {
     "data": {
      "text/plain": [
       "<Figure size 1080x576 with 0 Axes>"
      ]
     },
     "metadata": {},
     "output_type": "display_data"
    },
    {
     "data": {
      "text/plain": [
       "<Figure size 432x288 with 0 Axes>"
      ]
     },
     "metadata": {},
     "output_type": "display_data"
    }
   ],
   "source": [
    "sns.histplot(df_churned['total_day_charge'], bins=5)\n",
    "plt.xlabel(\"Monthly Day Call Charges\", size=10)\n",
    "plt.ylabel(\"Churn\", size=10)\n",
    "plt.figure(figsize=(15,8))\n",
    "plt.show()\n",
    "plt.savefig('fo.png')"
   ]
  },
  {
   "cell_type": "code",
   "execution_count": 42,
   "metadata": {
    "scrolled": true
   },
   "outputs": [
    {
     "data": {
      "text/plain": [
       "array([0.12345679, 0.12941176, 0.08198758, 0.21445221, 0.66346154])"
      ]
     },
     "execution_count": 42,
     "metadata": {},
     "output_type": "execute_result"
    }
   ],
   "source": [
    "counts1, _ =  np.histogram(df['total_day_charge'], bins=5)\n",
    "\n",
    "counts2, _ =  np.histogram(df_churned['total_day_charge'], bins=5)\n",
    "\n",
    "day_churn_rate = counts2 / counts1\n",
    "day_churn_rate"
   ]
  },
  {
   "cell_type": "code",
   "execution_count": 43,
   "metadata": {},
   "outputs": [
    {
     "data": {
      "image/png": "[encoded data removed]",
      "text/plain": [
       "<Figure size 432x288 with 1 Axes>"
      ]
     },
     "metadata": {},
     "output_type": "display_data"
    }
   ],
   "source": [
    "sns.histplot(df['total_spend'], bins=5)\n",
    "plt.show()"
   ]
  },
  {
   "cell_type": "code",
   "execution_count": 45,
   "metadata": {},
   "outputs": [
    {
     "data": {
      "text/plain": [
       "array([0.11428571, 0.12398922, 0.08169177, 0.26258503, 0.81666667])"
      ]
     },
     "execution_count": 45,
     "metadata": {},
     "output_type": "execute_result"
    }
   ],
   "source": [
    "counts3, _ =  np.histogram(df_churned['total_spend'], bins=5)\n",
    "\n",
    "counts4, _ =  np.histogram(df['total_spend'], bins=5)\n",
    "\n",
    "total_change = counts3 / counts4\n",
    "\n",
    "total_change"
   ]
  },
  {
   "cell_type": "code",
   "execution_count": 46,
   "metadata": {},
   "outputs": [
    {
     "data": {
      "image/png": "[encoded data removed]",
      "text/plain": [
       "<Figure size 720x576 with 1 Axes>"
      ]
     },
     "metadata": {},
     "output_type": "display_data"
    }
   ],
   "source": [
    "plt.figure(figsize=(10,8))\n",
    "sns.histplot(df_churned['total_spend'], bins=[20,30, 40, 50, 60], color=\"black\")\n",
    "plt.xlabel(\"Monthly Call Charges\", size=12)\n",
    "plt.ylabel(\"Churned Clients\", size=12)\n",
    "fig3 = plt.gcf()\n",
    "plt.show()\n",
    "fig3.savefig('foo.png', dpi=100)"
   ]
  },
  {
   "cell_type": "code",
   "execution_count": 49,
   "metadata": {},
   "outputs": [
    {
     "data": {
      "image/png": "[encoded data removed]",
      "text/plain": [
       "<Figure size 720x576 with 1 Axes>"
      ]
     },
     "metadata": {},
     "output_type": "display_data"
    }
   ],
   "source": [
    "plt.figure(figsize=(10,8))\n",
    "plt.hist(df['total_spend'], bins=range(25, 100, 5), alpha=0.5, label=\"All Clients\")\n",
    "plt.hist(df_churned['total_spend'], bins=range(25, 100, 5), alpha=0.5, label=\"Churned Clients\")\n",
    "plt.legend()\n",
    "plt.xlabel('Client Total Call Charges', size=14)\n",
    "plt.ylabel('Number of Clients', size=14)\n",
    "fig4 = plt.gcf()\n",
    "plt.show()\n",
    "fig4.savefig('proportions', dpi=100)"
   ]
  },
  {
   "cell_type": "code",
   "execution_count": 53,
   "metadata": {},
   "outputs": [
    {
     "data": {
      "text/plain": [
       "array([0.5       , 0.14285714, 0.15151515, 0.1       , 0.08928571,\n",
       "       0.134375  , 0.14484127, 0.08387097, 0.05769231, 0.05458515,\n",
       "       0.17406143, 0.7254902 , 0.75862069, 0.77777778, 1.        ])"
      ]
     },
     "execution_count": 53,
     "metadata": {},
     "output_type": "execute_result"
    }
   ],
   "source": [
    "counts10, _ =  np.histogram(df['total_spend'], bins=range(20, 100, 5))\n",
    "counts11, _ =  np.histogram(df_churned['total_spend'], bins=range(20, 100, 5))\n",
    "counts11 / counts10"
   ]
  },
  {
   "cell_type": "code",
   "execution_count": 57,
   "metadata": {},
   "outputs": [
    {
     "data": {
      "text/plain": [
       "[0.11860940695296524,\n",
       " 0.11499272197962154,\n",
       " 0.06119402985074627,\n",
       " 0.10564663023679417,\n",
       " 0.23529411764705882,\n",
       " 0.5460526315789473,\n",
       " 0.6739130434782609,\n",
       " 1.0,\n",
       " nan]"
      ]
     },
     "execution_count": 57,
     "metadata": {},
     "output_type": "execute_result"
    }
   ],
   "source": [
    "counts12, _ =  np.histogram(df['total_day_charge'], bins=range(20, 70, 5))\n",
    "counts12\n",
    "counts13, _ =  np.histogram(df_churned['total_day_charge'], bins=range(20,70,5))\n",
    "day_change = list(counts13 / counts12)\n",
    "x2 = [25,30,35, 40,45, 50, 60]\n",
    "day_change"
   ]
  },
  {
   "cell_type": "code",
   "execution_count": 58,
   "metadata": {},
   "outputs": [],
   "source": [
    "day_change = [11.86, 11.50, 6.12, 10.56, 23.53, 54.61, 74.14]"
   ]
  },
  {
   "cell_type": "code",
   "execution_count": 59,
   "metadata": {},
   "outputs": [
    {
     "data": {
      "image/png": "[encoded data removed]",
      "text/plain": [
       "<Figure size 576x432 with 1 Axes>"
      ]
     },
     "metadata": {},
     "output_type": "display_data"
    }
   ],
   "source": [
    "plt.figure(figsize=(8,6))\n",
    "sns.lineplot(x=x2, y=day_change, marker=\"o\")\n",
    "plt.xlabel('Day Charges', size=14)\n",
    "plt.ylabel('Percent Churn', size=14)\n",
    "fig5 = plt.gcf()\n",
    "plt.show()\n",
    "fig5.savefig('fig5.png', dpi=100)"
   ]
  },
  {
   "cell_type": "code",
   "execution_count": 60,
   "metadata": {},
   "outputs": [
    {
     "data": {
      "text/plain": [
       "[14.0,\n",
       " 14.0,\n",
       " 14.0,\n",
       " 14.0,\n",
       " 14.0,\n",
       " 14.0,\n",
       " 14.0,\n",
       " 14.0,\n",
       " 15.0,\n",
       " 15.0,\n",
       " 15.0,\n",
       " 15.0,\n",
       " 18.0,\n",
       " 25.0,\n",
       " 43.0,\n",
       " 74.0,\n",
       " 78.0,\n",
       " 83.0,\n",
       " 100.0,\n",
       " 100.0]"
      ]
     },
     "execution_count": 60,
     "metadata": {},
     "output_type": "execute_result"
    }
   ],
   "source": [
    "churn_by_spend_range = []\n",
    "\n",
    "for x in range(0, 100, 5):\n",
    "    churn_by_spend_range.append(round(sum(df_churned['total_spend'] >= x) / \n",
    "                             sum(df['total_spend'] >= x) * 100, 0))\n",
    "churn_by_spend_range"
   ]
  },
  {
   "cell_type": "code",
   "execution_count": 62,
   "metadata": {
    "scrolled": true
   },
   "outputs": [
    {
     "data": {
      "image/png": "[encoded data removed]",
      "text/plain": [
       "<Figure size 576x432 with 1 Axes>"
      ]
     },
     "metadata": {},
     "output_type": "display_data"
    }
   ],
   "source": [
    "plt.figure(figsize=(8,6))\n",
    "plt.hist(df['total_day_charge'], bins=5, alpha=0.5, label=\"Total Day Charges\")\n",
    "plt.hist(df_churned['total_day_charge'], bins=5, alpha=0.5, label=\"Total Churn\")\n",
    "plt.show()"
   ]
  },
  {
   "cell_type": "markdown",
   "metadata": {},
   "source": [
    "presenting to product, operations, finance\n",
    "finance how does cnaging orice affect our bottom line\n",
    "product\n",
    "changing pricing structure\n",
    "improvement to product, day time callers have a better experience\n",
    "customer service calls\n",
    "3 bigeest reasons why we're struggling in churn\n",
    "dirst slide bar chart how each of the featres affect churn\n",
    "linear regression and churn percentage at time 3\n",
    "churn rate for individual attroibute\n",
    "morning callers turn at x percen higher rate than other caller, howcan we  make a better experience for these using\n",
    "who is our core market? which bucket of day time do most people spend money. golden goose is in pain and we're not salving their pain\n",
    "if it affects a small amount of users it doesn't hurt that much\n",
    "alleviate pain"
   ]
  },
  {
   "cell_type": "code",
   "execution_count": 65,
   "metadata": {
    "scrolled": true
   },
   "outputs": [
    {
     "data": {
      "text/plain": [
       "16989.97"
      ]
     },
     "execution_count": 65,
     "metadata": {},
     "output_type": "execute_result"
    }
   ],
   "source": [
    "sum(df_churned.total_day_charge)"
   ]
  },
  {
   "cell_type": "code",
   "execution_count": 66,
   "metadata": {},
   "outputs": [
    {
     "data": {
      "text/plain": [
       "31566.929999999986"
      ]
     },
     "execution_count": 66,
     "metadata": {},
     "output_type": "execute_result"
    }
   ],
   "source": [
    "sum(df_churned.total_spend)"
   ]
  },
  {
   "cell_type": "code",
   "execution_count": null,
   "metadata": {},
   "outputs": [],
   "source": [
    "16989.97 / 31566.93"
   ]
  },
  {
   "cell_type": "code",
   "execution_count": 67,
   "metadata": {},
   "outputs": [
    {
     "data": {
      "text/html": [
       "<div>\n",
       "<style scoped>\n",
       "    .dataframe tbody tr th:only-of-type {\n",
       "        vertical-align: middle;\n",
       "    }\n",
       "\n",
       "    .dataframe tbody tr th {\n",
       "        vertical-align: top;\n",
       "    }\n",
       "\n",
       "    .dataframe thead th {\n",
       "        text-align: right;\n",
       "    }\n",
       "</style>\n",
       "<table border=\"1\" class=\"dataframe\">\n",
       "  <thead>\n",
       "    <tr style=\"text-align: right;\">\n",
       "      <th></th>\n",
       "      <th>state</th>\n",
       "      <th>account_length</th>\n",
       "      <th>area_code</th>\n",
       "      <th>international_plan</th>\n",
       "      <th>voice_mail_plan</th>\n",
       "      <th>number_vmail_messages</th>\n",
       "      <th>total_day_minutes</th>\n",
       "      <th>total_day_calls</th>\n",
       "      <th>total_day_charge</th>\n",
       "      <th>total_eve_minutes</th>\n",
       "      <th>...</th>\n",
       "      <th>total_intl_calls</th>\n",
       "      <th>total_intl_charge</th>\n",
       "      <th>customer_service_calls</th>\n",
       "      <th>churn</th>\n",
       "      <th>cost_per_day_call</th>\n",
       "      <th>cost_per_intl_call</th>\n",
       "      <th>cost_per_night_call</th>\n",
       "      <th>cost_per_eve_call</th>\n",
       "      <th>total_spend</th>\n",
       "      <th>called_cs</th>\n",
       "    </tr>\n",
       "  </thead>\n",
       "  <tbody>\n",
       "    <tr>\n",
       "      <th>0</th>\n",
       "      <td>KS</td>\n",
       "      <td>128</td>\n",
       "      <td>415</td>\n",
       "      <td>no</td>\n",
       "      <td>yes</td>\n",
       "      <td>25</td>\n",
       "      <td>265.1</td>\n",
       "      <td>110</td>\n",
       "      <td>45.07</td>\n",
       "      <td>197.4</td>\n",
       "      <td>...</td>\n",
       "      <td>3</td>\n",
       "      <td>2.70</td>\n",
       "      <td>1</td>\n",
       "      <td>False</td>\n",
       "      <td>0.170011</td>\n",
       "      <td>0.270000</td>\n",
       "      <td>0.044994</td>\n",
       "      <td>0.085005</td>\n",
       "      <td>75.56</td>\n",
       "      <td>True</td>\n",
       "    </tr>\n",
       "    <tr>\n",
       "      <th>1</th>\n",
       "      <td>OH</td>\n",
       "      <td>107</td>\n",
       "      <td>415</td>\n",
       "      <td>no</td>\n",
       "      <td>yes</td>\n",
       "      <td>26</td>\n",
       "      <td>161.6</td>\n",
       "      <td>123</td>\n",
       "      <td>27.47</td>\n",
       "      <td>195.5</td>\n",
       "      <td>...</td>\n",
       "      <td>3</td>\n",
       "      <td>3.70</td>\n",
       "      <td>1</td>\n",
       "      <td>False</td>\n",
       "      <td>0.169988</td>\n",
       "      <td>0.270073</td>\n",
       "      <td>0.045008</td>\n",
       "      <td>0.085013</td>\n",
       "      <td>59.24</td>\n",
       "      <td>True</td>\n",
       "    </tr>\n",
       "    <tr>\n",
       "      <th>2</th>\n",
       "      <td>NJ</td>\n",
       "      <td>137</td>\n",
       "      <td>415</td>\n",
       "      <td>no</td>\n",
       "      <td>no</td>\n",
       "      <td>0</td>\n",
       "      <td>243.4</td>\n",
       "      <td>114</td>\n",
       "      <td>41.38</td>\n",
       "      <td>121.2</td>\n",
       "      <td>...</td>\n",
       "      <td>5</td>\n",
       "      <td>3.29</td>\n",
       "      <td>0</td>\n",
       "      <td>False</td>\n",
       "      <td>0.170008</td>\n",
       "      <td>0.269672</td>\n",
       "      <td>0.045018</td>\n",
       "      <td>0.084983</td>\n",
       "      <td>62.29</td>\n",
       "      <td>False</td>\n",
       "    </tr>\n",
       "    <tr>\n",
       "      <th>3</th>\n",
       "      <td>OH</td>\n",
       "      <td>84</td>\n",
       "      <td>408</td>\n",
       "      <td>yes</td>\n",
       "      <td>no</td>\n",
       "      <td>0</td>\n",
       "      <td>299.4</td>\n",
       "      <td>71</td>\n",
       "      <td>50.90</td>\n",
       "      <td>61.9</td>\n",
       "      <td>...</td>\n",
       "      <td>7</td>\n",
       "      <td>1.78</td>\n",
       "      <td>2</td>\n",
       "      <td>False</td>\n",
       "      <td>0.170007</td>\n",
       "      <td>0.269697</td>\n",
       "      <td>0.044997</td>\n",
       "      <td>0.084976</td>\n",
       "      <td>66.80</td>\n",
       "      <td>True</td>\n",
       "    </tr>\n",
       "    <tr>\n",
       "      <th>4</th>\n",
       "      <td>OK</td>\n",
       "      <td>75</td>\n",
       "      <td>415</td>\n",
       "      <td>yes</td>\n",
       "      <td>no</td>\n",
       "      <td>0</td>\n",
       "      <td>166.7</td>\n",
       "      <td>113</td>\n",
       "      <td>28.34</td>\n",
       "      <td>148.3</td>\n",
       "      <td>...</td>\n",
       "      <td>3</td>\n",
       "      <td>2.73</td>\n",
       "      <td>3</td>\n",
       "      <td>False</td>\n",
       "      <td>0.170006</td>\n",
       "      <td>0.270297</td>\n",
       "      <td>0.044997</td>\n",
       "      <td>0.085030</td>\n",
       "      <td>52.09</td>\n",
       "      <td>True</td>\n",
       "    </tr>\n",
       "  </tbody>\n",
       "</table>\n",
       "<p>5 rows × 26 columns</p>\n",
       "</div>"
      ],
      "text/plain": [
       "  state  account_length  area_code international_plan voice_mail_plan  \\\n",
       "0    KS             128        415                 no             yes   \n",
       "1    OH             107        415                 no             yes   \n",
       "2    NJ             137        415                 no              no   \n",
       "3    OH              84        408                yes              no   \n",
       "4    OK              75        415                yes              no   \n",
       "\n",
       "   number_vmail_messages  total_day_minutes  total_day_calls  \\\n",
       "0                     25              265.1              110   \n",
       "1                     26              161.6              123   \n",
       "2                      0              243.4              114   \n",
       "3                      0              299.4               71   \n",
       "4                      0              166.7              113   \n",
       "\n",
       "   total_day_charge  total_eve_minutes  ...  total_intl_calls  \\\n",
       "0             45.07              197.4  ...                 3   \n",
       "1             27.47              195.5  ...                 3   \n",
       "2             41.38              121.2  ...                 5   \n",
       "3             50.90               61.9  ...                 7   \n",
       "4             28.34              148.3  ...                 3   \n",
       "\n",
       "   total_intl_charge  customer_service_calls  churn  cost_per_day_call  \\\n",
       "0               2.70                       1  False           0.170011   \n",
       "1               3.70                       1  False           0.169988   \n",
       "2               3.29                       0  False           0.170008   \n",
       "3               1.78                       2  False           0.170007   \n",
       "4               2.73                       3  False           0.170006   \n",
       "\n",
       "   cost_per_intl_call  cost_per_night_call  cost_per_eve_call  total_spend  \\\n",
       "0            0.270000             0.044994           0.085005        75.56   \n",
       "1            0.270073             0.045008           0.085013        59.24   \n",
       "2            0.269672             0.045018           0.084983        62.29   \n",
       "3            0.269697             0.044997           0.084976        66.80   \n",
       "4            0.270297             0.044997           0.085030        52.09   \n",
       "\n",
       "   called_cs  \n",
       "0       True  \n",
       "1       True  \n",
       "2      False  \n",
       "3       True  \n",
       "4       True  \n",
       "\n",
       "[5 rows x 26 columns]"
      ]
     },
     "metadata": {},
     "output_type": "display_data"
    },
    {
     "data": {
      "text/html": [
       "<div>\n",
       "<style scoped>\n",
       "    .dataframe tbody tr th:only-of-type {\n",
       "        vertical-align: middle;\n",
       "    }\n",
       "\n",
       "    .dataframe tbody tr th {\n",
       "        vertical-align: top;\n",
       "    }\n",
       "\n",
       "    .dataframe thead th {\n",
       "        text-align: right;\n",
       "    }\n",
       "</style>\n",
       "<table border=\"1\" class=\"dataframe\">\n",
       "  <thead>\n",
       "    <tr style=\"text-align: right;\">\n",
       "      <th></th>\n",
       "      <th>state</th>\n",
       "      <th>account_length</th>\n",
       "      <th>area_code</th>\n",
       "      <th>international_plan</th>\n",
       "      <th>voice_mail_plan</th>\n",
       "      <th>number_vmail_messages</th>\n",
       "      <th>total_day_minutes</th>\n",
       "      <th>total_day_calls</th>\n",
       "      <th>total_day_charge</th>\n",
       "      <th>total_eve_minutes</th>\n",
       "      <th>...</th>\n",
       "      <th>total_intl_calls</th>\n",
       "      <th>total_intl_charge</th>\n",
       "      <th>customer_service_calls</th>\n",
       "      <th>churn</th>\n",
       "      <th>cost_per_day_call</th>\n",
       "      <th>cost_per_intl_call</th>\n",
       "      <th>cost_per_night_call</th>\n",
       "      <th>cost_per_eve_call</th>\n",
       "      <th>total_spend</th>\n",
       "      <th>called_cs</th>\n",
       "    </tr>\n",
       "  </thead>\n",
       "  <tbody>\n",
       "    <tr>\n",
       "      <th>10</th>\n",
       "      <td>IN</td>\n",
       "      <td>65</td>\n",
       "      <td>415</td>\n",
       "      <td>no</td>\n",
       "      <td>no</td>\n",
       "      <td>0</td>\n",
       "      <td>129.1</td>\n",
       "      <td>137</td>\n",
       "      <td>21.95</td>\n",
       "      <td>228.5</td>\n",
       "      <td>...</td>\n",
       "      <td>6</td>\n",
       "      <td>3.43</td>\n",
       "      <td>4</td>\n",
       "      <td>True</td>\n",
       "      <td>0.170023</td>\n",
       "      <td>0.270079</td>\n",
       "      <td>0.045019</td>\n",
       "      <td>0.084989</td>\n",
       "      <td>54.20</td>\n",
       "      <td>True</td>\n",
       "    </tr>\n",
       "    <tr>\n",
       "      <th>15</th>\n",
       "      <td>NY</td>\n",
       "      <td>161</td>\n",
       "      <td>415</td>\n",
       "      <td>no</td>\n",
       "      <td>no</td>\n",
       "      <td>0</td>\n",
       "      <td>332.9</td>\n",
       "      <td>67</td>\n",
       "      <td>56.59</td>\n",
       "      <td>317.8</td>\n",
       "      <td>...</td>\n",
       "      <td>9</td>\n",
       "      <td>1.46</td>\n",
       "      <td>4</td>\n",
       "      <td>True</td>\n",
       "      <td>0.169991</td>\n",
       "      <td>0.270370</td>\n",
       "      <td>0.045019</td>\n",
       "      <td>0.084991</td>\n",
       "      <td>92.29</td>\n",
       "      <td>True</td>\n",
       "    </tr>\n",
       "    <tr>\n",
       "      <th>21</th>\n",
       "      <td>CO</td>\n",
       "      <td>77</td>\n",
       "      <td>408</td>\n",
       "      <td>no</td>\n",
       "      <td>no</td>\n",
       "      <td>0</td>\n",
       "      <td>62.4</td>\n",
       "      <td>89</td>\n",
       "      <td>10.61</td>\n",
       "      <td>169.9</td>\n",
       "      <td>...</td>\n",
       "      <td>6</td>\n",
       "      <td>1.54</td>\n",
       "      <td>5</td>\n",
       "      <td>True</td>\n",
       "      <td>0.170032</td>\n",
       "      <td>0.270175</td>\n",
       "      <td>0.044990</td>\n",
       "      <td>0.084991</td>\n",
       "      <td>36.02</td>\n",
       "      <td>True</td>\n",
       "    </tr>\n",
       "    <tr>\n",
       "      <th>33</th>\n",
       "      <td>AZ</td>\n",
       "      <td>12</td>\n",
       "      <td>408</td>\n",
       "      <td>no</td>\n",
       "      <td>no</td>\n",
       "      <td>0</td>\n",
       "      <td>249.6</td>\n",
       "      <td>118</td>\n",
       "      <td>42.43</td>\n",
       "      <td>252.4</td>\n",
       "      <td>...</td>\n",
       "      <td>3</td>\n",
       "      <td>3.19</td>\n",
       "      <td>1</td>\n",
       "      <td>True</td>\n",
       "      <td>0.169992</td>\n",
       "      <td>0.270339</td>\n",
       "      <td>0.045004</td>\n",
       "      <td>0.084984</td>\n",
       "      <td>79.68</td>\n",
       "      <td>True</td>\n",
       "    </tr>\n",
       "    <tr>\n",
       "      <th>41</th>\n",
       "      <td>MD</td>\n",
       "      <td>135</td>\n",
       "      <td>408</td>\n",
       "      <td>yes</td>\n",
       "      <td>yes</td>\n",
       "      <td>41</td>\n",
       "      <td>173.1</td>\n",
       "      <td>85</td>\n",
       "      <td>29.43</td>\n",
       "      <td>203.9</td>\n",
       "      <td>...</td>\n",
       "      <td>15</td>\n",
       "      <td>3.94</td>\n",
       "      <td>0</td>\n",
       "      <td>True</td>\n",
       "      <td>0.170017</td>\n",
       "      <td>0.269863</td>\n",
       "      <td>0.045008</td>\n",
       "      <td>0.084993</td>\n",
       "      <td>56.20</td>\n",
       "      <td>False</td>\n",
       "    </tr>\n",
       "  </tbody>\n",
       "</table>\n",
       "<p>5 rows × 26 columns</p>\n",
       "</div>"
      ],
      "text/plain": [
       "   state  account_length  area_code international_plan voice_mail_plan  \\\n",
       "10    IN              65        415                 no              no   \n",
       "15    NY             161        415                 no              no   \n",
       "21    CO              77        408                 no              no   \n",
       "33    AZ              12        408                 no              no   \n",
       "41    MD             135        408                yes             yes   \n",
       "\n",
       "    number_vmail_messages  total_day_minutes  total_day_calls  \\\n",
       "10                      0              129.1              137   \n",
       "15                      0              332.9               67   \n",
       "21                      0               62.4               89   \n",
       "33                      0              249.6              118   \n",
       "41                     41              173.1               85   \n",
       "\n",
       "    total_day_charge  total_eve_minutes  ...  total_intl_calls  \\\n",
       "10             21.95              228.5  ...                 6   \n",
       "15             56.59              317.8  ...                 9   \n",
       "21             10.61              169.9  ...                 6   \n",
       "33             42.43              252.4  ...                 3   \n",
       "41             29.43              203.9  ...                15   \n",
       "\n",
       "    total_intl_charge  customer_service_calls  churn  cost_per_day_call  \\\n",
       "10               3.43                       4   True           0.170023   \n",
       "15               1.46                       4   True           0.169991   \n",
       "21               1.54                       5   True           0.170032   \n",
       "33               3.19                       1   True           0.169992   \n",
       "41               3.94                       0   True           0.170017   \n",
       "\n",
       "    cost_per_intl_call  cost_per_night_call  cost_per_eve_call  total_spend  \\\n",
       "10            0.270079             0.045019           0.084989        54.20   \n",
       "15            0.270370             0.045019           0.084991        92.29   \n",
       "21            0.270175             0.044990           0.084991        36.02   \n",
       "33            0.270339             0.045004           0.084984        79.68   \n",
       "41            0.269863             0.045008           0.084993        56.20   \n",
       "\n",
       "    called_cs  \n",
       "10       True  \n",
       "15       True  \n",
       "21       True  \n",
       "33       True  \n",
       "41      False  \n",
       "\n",
       "[5 rows x 26 columns]"
      ]
     },
     "metadata": {},
     "output_type": "display_data"
    }
   ],
   "source": [
    "df_churned['called_cs'] = df_churned['customer_service_calls'] >=1\n",
    "df['called_cs'] = df['customer_service_calls'] >=1\n",
    "\n",
    "display(df.head())\n",
    "display(df_churned.head())\n"
   ]
  },
  {
   "cell_type": "code",
   "execution_count": 76,
   "metadata": {},
   "outputs": [],
   "source": [
    "top_telecom = {'Nippon': .67, 'T-Mobile': .98, 'AT&T': .69, 'Verizon': 1.03, 'SyriaTel': 14.5}"
   ]
  },
  {
   "cell_type": "code",
   "execution_count": 78,
   "metadata": {},
   "outputs": [
    {
     "data": {
      "image/png": "[encoded data removed]",
      "text/plain": [
       "<Figure size 720x576 with 1 Axes>"
      ]
     },
     "metadata": {},
     "output_type": "display_data"
    }
   ],
   "source": [
    "plt.figure(figsize=(10,8))\n",
    "plt.bar(top_telecom.keys(), top_telecom.values(), width=.5, color='darkred')\n",
    "plt.ylabel('Churn Rate', size=13)\n",
    "plt.xlabel('Telecom Companies',  size=13)\n",
    "plt.title('SyriaTel Churn Against Its Competitors', size=14)\n",
    "plt.axhline(21, label='Average Industry Churn', ls='--', color='darkblue')\n",
    "plt.legend()\n",
    "fig7 = plt.gcf()\n",
    "plt.show()\n",
    "fig7.savefig('fig7', dpi=100)"
   ]
  },
  {
   "cell_type": "code",
   "execution_count": null,
   "metadata": {},
   "outputs": [],
   "source": []
  }
 ],
 "metadata": {
  "kernelspec": {
   "display_name": "Python (learn-env)",
   "language": "python",
   "name": "learn-env"
  },
  "language_info": {
   "codemirror_mode": {
    "name": "ipython",
    "version": 3
   },
   "file_extension": ".py",
   "mimetype": "text/x-python",
   "name": "python",
   "nbconvert_exporter": "python",
   "pygments_lexer": "ipython3",
   "version": "3.8.3"
  }
 },
 "nbformat": 4,
 "nbformat_minor": 4
}
